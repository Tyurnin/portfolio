{
 "cells": [
  {
   "cell_type": "markdown",
   "metadata": {},
   "source": [
    "# Тестовое задание"
   ]
  },
  {
   "cell_type": "markdown",
   "metadata": {},
   "source": [
    "В папке с заданием два датасета - data_orders - содержит выборку данных по заказам клиентов и включает такие колонки как:\n",
    "* order_datetime -  время заказа\n",
    "* order_gk - номер заказа\n",
    "* order_status_key - статус (4 - отменен клиентом, 9 - отменен системой (reject))\n",
    "* is_courier_assigned_key - был ли назначен курьер\n",
    "* cancellations_time_in_seconds - сколько секунд прошло до отмены\n",
    "\n",
    "data_offers - содержит пары номер заказа - ID оффера, который был предложен курьеру по данному заказу.\n"
   ]
  },
  {
   "cell_type": "markdown",
   "metadata": {},
   "source": [
    "В момент когда клиент нажимает на кнопку \"Заказать\" в приложении, система матчинга подыскивает наиболее релевантых курьеров и предлагаем им заказ. В задании предлагается исследовать некоторые метрики неудачных заказов"
   ]
  },
  {
   "cell_type": "markdown",
   "metadata": {},
   "source": [
    "Задание является проверочным и не имеет ничего общего с реальной работой курьеров"
   ]
  },
  {
   "cell_type": "markdown",
   "metadata": {},
   "source": [
    "**0.** Подготовка данных, проверка выбросов, аномалий"
   ]
  },
  {
   "cell_type": "code",
   "execution_count": 1,
   "metadata": {
    "scrolled": true
   },
   "outputs": [],
   "source": [
    "## CODE HERE\n",
    "import numpy as np\n",
    "import pandas as pd\n",
    "import seaborn as sns\n",
    "import matplotlib.pyplot as plt\n",
    "%matplotlib inline"
   ]
  },
  {
   "cell_type": "code",
   "execution_count": 2,
   "metadata": {},
   "outputs": [],
   "source": [
    "#открываем файл data_orders и смотрим св-ва датасета\n",
    "#опишите основные статистики датасета и его особенности\n",
    "#df_orders = pd.read_csv('data_orders.csv')\n",
    "#далее ваш код"
   ]
  },
  {
   "cell_type": "raw",
   "metadata": {},
   "source": [
    "Для возможности открытия данных и проверки данного ноутбука на любом устройстве, загружаем данные из первоначального источника, не копируя и не перемещая их."
   ]
  },
  {
   "cell_type": "code",
   "execution_count": 3,
   "metadata": {},
   "outputs": [],
   "source": [
    "import requests\n",
    "from io import StringIO"
   ]
  },
  {
   "cell_type": "code",
   "execution_count": 4,
   "metadata": {},
   "outputs": [],
   "source": [
    "url='https://drive.google.com/file/d/1xXd8y5efJoYBb1nsJA05zzpCldmdr1JE/view?usp=sharing'\n",
    "\n",
    "file_id = url.split('/')[-2]\n",
    "dwn_url='https://drive.google.com/uc?export=download&id=' + file_id\n",
    "url2 = requests.get(dwn_url).text\n",
    "csv_raw = StringIO(url2)\n",
    "df_orders = pd.read_csv(csv_raw)"
   ]
  },
  {
   "cell_type": "raw",
   "metadata": {},
   "source": [
    "Посмотрим на загруженные данные. 10716 rows × 5 columns"
   ]
  },
  {
   "cell_type": "code",
   "execution_count": 5,
   "metadata": {},
   "outputs": [
    {
     "data": {
      "text/html": [
       "<div>\n",
       "<style scoped>\n",
       "    .dataframe tbody tr th:only-of-type {\n",
       "        vertical-align: middle;\n",
       "    }\n",
       "\n",
       "    .dataframe tbody tr th {\n",
       "        vertical-align: top;\n",
       "    }\n",
       "\n",
       "    .dataframe thead th {\n",
       "        text-align: right;\n",
       "    }\n",
       "</style>\n",
       "<table border=\"1\" class=\"dataframe\">\n",
       "  <thead>\n",
       "    <tr style=\"text-align: right;\">\n",
       "      <th></th>\n",
       "      <th>order_datetime</th>\n",
       "      <th>order_gk</th>\n",
       "      <th>order_status_key</th>\n",
       "      <th>is_courier_assigned_key</th>\n",
       "      <th>cancellations_time_in_seconds</th>\n",
       "    </tr>\n",
       "  </thead>\n",
       "  <tbody>\n",
       "    <tr>\n",
       "      <th>0</th>\n",
       "      <td>2020-07-22 18:08:07</td>\n",
       "      <td>3000583041974</td>\n",
       "      <td>4</td>\n",
       "      <td>1</td>\n",
       "      <td>198.0</td>\n",
       "    </tr>\n",
       "    <tr>\n",
       "      <th>1</th>\n",
       "      <td>2020-07-22 20:57:32</td>\n",
       "      <td>3000583116437</td>\n",
       "      <td>4</td>\n",
       "      <td>0</td>\n",
       "      <td>128.0</td>\n",
       "    </tr>\n",
       "    <tr>\n",
       "      <th>2</th>\n",
       "      <td>2020-07-22 12:07:50</td>\n",
       "      <td>3000582891479</td>\n",
       "      <td>4</td>\n",
       "      <td>1</td>\n",
       "      <td>46.0</td>\n",
       "    </tr>\n",
       "    <tr>\n",
       "      <th>3</th>\n",
       "      <td>2020-07-22 13:50:20</td>\n",
       "      <td>3000582941169</td>\n",
       "      <td>4</td>\n",
       "      <td>1</td>\n",
       "      <td>62.0</td>\n",
       "    </tr>\n",
       "    <tr>\n",
       "      <th>4</th>\n",
       "      <td>2020-07-22 21:24:45</td>\n",
       "      <td>3000583140877</td>\n",
       "      <td>9</td>\n",
       "      <td>0</td>\n",
       "      <td>NaN</td>\n",
       "    </tr>\n",
       "    <tr>\n",
       "      <th>...</th>\n",
       "      <td>...</td>\n",
       "      <td>...</td>\n",
       "      <td>...</td>\n",
       "      <td>...</td>\n",
       "      <td>...</td>\n",
       "    </tr>\n",
       "    <tr>\n",
       "      <th>10711</th>\n",
       "      <td>2020-07-22 13:11:35</td>\n",
       "      <td>3000599186906</td>\n",
       "      <td>4</td>\n",
       "      <td>0</td>\n",
       "      <td>36.0</td>\n",
       "    </tr>\n",
       "    <tr>\n",
       "      <th>10712</th>\n",
       "      <td>2020-07-22 13:13:55</td>\n",
       "      <td>3000599186962</td>\n",
       "      <td>4</td>\n",
       "      <td>0</td>\n",
       "      <td>4.0</td>\n",
       "    </tr>\n",
       "    <tr>\n",
       "      <th>10713</th>\n",
       "      <td>2020-07-22 13:17:21</td>\n",
       "      <td>3000599187034</td>\n",
       "      <td>4</td>\n",
       "      <td>1</td>\n",
       "      <td>34.0</td>\n",
       "    </tr>\n",
       "    <tr>\n",
       "      <th>10714</th>\n",
       "      <td>2020-07-22 13:16:28</td>\n",
       "      <td>3000599187024</td>\n",
       "      <td>4</td>\n",
       "      <td>0</td>\n",
       "      <td>6.0</td>\n",
       "    </tr>\n",
       "    <tr>\n",
       "      <th>10715</th>\n",
       "      <td>2020-07-22 11:49:35</td>\n",
       "      <td>3000592871241</td>\n",
       "      <td>4</td>\n",
       "      <td>1</td>\n",
       "      <td>40.0</td>\n",
       "    </tr>\n",
       "  </tbody>\n",
       "</table>\n",
       "<p>10716 rows × 5 columns</p>\n",
       "</div>"
      ],
      "text/plain": [
       "            order_datetime       order_gk  order_status_key  \\\n",
       "0      2020-07-22 18:08:07  3000583041974                 4   \n",
       "1      2020-07-22 20:57:32  3000583116437                 4   \n",
       "2      2020-07-22 12:07:50  3000582891479                 4   \n",
       "3      2020-07-22 13:50:20  3000582941169                 4   \n",
       "4      2020-07-22 21:24:45  3000583140877                 9   \n",
       "...                    ...            ...               ...   \n",
       "10711  2020-07-22 13:11:35  3000599186906                 4   \n",
       "10712  2020-07-22 13:13:55  3000599186962                 4   \n",
       "10713  2020-07-22 13:17:21  3000599187034                 4   \n",
       "10714  2020-07-22 13:16:28  3000599187024                 4   \n",
       "10715  2020-07-22 11:49:35  3000592871241                 4   \n",
       "\n",
       "       is_courier_assigned_key  cancellations_time_in_seconds  \n",
       "0                            1                          198.0  \n",
       "1                            0                          128.0  \n",
       "2                            1                           46.0  \n",
       "3                            1                           62.0  \n",
       "4                            0                            NaN  \n",
       "...                        ...                            ...  \n",
       "10711                        0                           36.0  \n",
       "10712                        0                            4.0  \n",
       "10713                        1                           34.0  \n",
       "10714                        0                            6.0  \n",
       "10715                        1                           40.0  \n",
       "\n",
       "[10716 rows x 5 columns]"
      ]
     },
     "execution_count": 5,
     "metadata": {},
     "output_type": "execute_result"
    }
   ],
   "source": [
    "df_orders"
   ]
  },
  {
   "cell_type": "code",
   "execution_count": 6,
   "metadata": {},
   "outputs": [
    {
     "data": {
      "text/plain": [
       "order_datetime                      0\n",
       "order_gk                            0\n",
       "order_status_key                    0\n",
       "is_courier_assigned_key             0\n",
       "cancellations_time_in_seconds    3409\n",
       "dtype: int64"
      ]
     },
     "execution_count": 6,
     "metadata": {},
     "output_type": "execute_result"
    }
   ],
   "source": [
    "df_orders.isna().sum() #почти для трети заказов есть пробелы во времени до отмены.\n",
    "#за исключением колонки cancellations_time_in_seconds, пробелов в данных нет."
   ]
  },
  {
   "cell_type": "code",
   "execution_count": 7,
   "metadata": {},
   "outputs": [
    {
     "data": {
      "text/plain": [
       "order_datetime                    9921\n",
       "order_gk                         10716\n",
       "order_status_key                     2\n",
       "is_courier_assigned_key              2\n",
       "cancellations_time_in_seconds      772\n",
       "dtype: int64"
      ]
     },
     "execution_count": 7,
     "metadata": {},
     "output_type": "execute_result"
    }
   ],
   "source": [
    "df_orders.nunique() \n",
    "#для 10716 заказов только 772 уникальных значений времени до отмены. Запомним. Возможно пригодится."
   ]
  },
  {
   "cell_type": "code",
   "execution_count": 8,
   "metadata": {},
   "outputs": [
    {
     "data": {
      "text/plain": [
       "order_datetime                    object\n",
       "order_gk                           int64\n",
       "order_status_key                   int64\n",
       "is_courier_assigned_key            int64\n",
       "cancellations_time_in_seconds    float64\n",
       "dtype: object"
      ]
     },
     "execution_count": 8,
     "metadata": {},
     "output_type": "execute_result"
    }
   ],
   "source": [
    "df_orders.dtypes #посмотрим на типы данных"
   ]
  },
  {
   "cell_type": "raw",
   "metadata": {},
   "source": [
    "Изменяем тип для дат:"
   ]
  },
  {
   "cell_type": "code",
   "execution_count": 9,
   "metadata": {},
   "outputs": [],
   "source": [
    "df_orders.order_datetime = pd.to_datetime(df_orders.order_datetime)"
   ]
  },
  {
   "cell_type": "raw",
   "metadata": {},
   "source": [
    "Посмотрим описательную статистику и визуализируем распределние времени до отмены:"
   ]
  },
  {
   "cell_type": "code",
   "execution_count": 10,
   "metadata": {},
   "outputs": [
    {
     "data": {
      "text/plain": [
       "count    7307.000000\n",
       "mean      157.892021\n",
       "std       213.366963\n",
       "min         3.000000\n",
       "25%        45.000000\n",
       "50%        98.000000\n",
       "75%       187.500000\n",
       "max      4303.000000\n",
       "Name: cancellations_time_in_seconds, dtype: float64"
      ]
     },
     "execution_count": 10,
     "metadata": {},
     "output_type": "execute_result"
    }
   ],
   "source": [
    "df_orders.cancellations_time_in_seconds.describe()"
   ]
  },
  {
   "cell_type": "code",
   "execution_count": 11,
   "metadata": {},
   "outputs": [
    {
     "data": {
      "text/plain": [
       "(array([6.766e+03, 4.260e+02, 8.400e+01, 1.800e+01, 6.000e+00, 3.000e+00,\n",
       "        1.000e+00, 0.000e+00, 1.000e+00, 2.000e+00]),\n",
       " array([3.000e+00, 4.330e+02, 8.630e+02, 1.293e+03, 1.723e+03, 2.153e+03,\n",
       "        2.583e+03, 3.013e+03, 3.443e+03, 3.873e+03, 4.303e+03]),\n",
       " <a list of 10 Patch objects>)"
      ]
     },
     "execution_count": 11,
     "metadata": {},
     "output_type": "execute_result"
    },
    {
     "data": {
      "image/png": "[encoded data removed]",
      "text/plain": [
       "<Figure size 1440x576 with 1 Axes>"
      ]
     },
     "metadata": {
      "needs_background": "light"
     },
     "output_type": "display_data"
    }
   ],
   "source": [
    "plt.figure(figsize=(20, 8))\n",
    "plt.hist(df_orders.cancellations_time_in_seconds)"
   ]
  },
  {
   "cell_type": "raw",
   "metadata": {},
   "source": [
    "Распределение данных смещено влево. Возможны выбросы. Запомним."
   ]
  },
  {
   "cell_type": "markdown",
   "metadata": {},
   "source": [
    "# Рекомендации базовые "
   ]
  },
  {
   "cell_type": "code",
   "execution_count": 12,
   "metadata": {
    "scrolled": true
   },
   "outputs": [],
   "source": [
    "#изучите датасеты и сформируйте рекомендации по улучшению бизнеса\n",
    "#все рекомендации отразите как ячейкой типа raw перед которым идет аналитический код с визуализацией и подтверждением вашей гипотезы\n",
    "#далее ваш код"
   ]
  },
  {
   "cell_type": "raw",
   "metadata": {},
   "source": [
    "#далее ваши гипотезы"
   ]
  },
  {
   "cell_type": "raw",
   "metadata": {},
   "source": [
    "#гипотезы пример\n",
    "1 - отказы по статусу 9 (от системы) без времени до отказа. Т.е. либо какой-то сбой и время не пишется, либо этот отказ происходит до момента старта отсчета времени вообще. Соответственно, нужно проверить, точно ли все ок с статусом 9 в рамках технической реализации со стороны системы матчинга"
   ]
  },
  {
   "cell_type": "markdown",
   "metadata": {},
   "source": [
    "# Рекомендации по конкретной задаче"
   ]
  },
  {
   "cell_type": "markdown",
   "metadata": {},
   "source": [
    "Видим, что есть пустые значения в столбце с секундами до отмены"
   ]
  },
  {
   "cell_type": "code",
   "execution_count": 13,
   "metadata": {},
   "outputs": [
    {
     "data": {
      "text/plain": [
       "array([9])"
      ]
     },
     "execution_count": 13,
     "metadata": {},
     "output_type": "execute_result"
    }
   ],
   "source": [
    "#проверим при каком статусе есть пробелы\n",
    "df_orders.order_status_key.loc[df_orders.cancellations_time_in_seconds.isnull() == True].unique()"
   ]
  },
  {
   "cell_type": "markdown",
   "metadata": {},
   "source": [
    "Есть пробелы только при статусе  - 9 - отменен системой (reject))"
   ]
  },
  {
   "cell_type": "code",
   "execution_count": 14,
   "metadata": {
    "scrolled": true
   },
   "outputs": [],
   "source": [
    "#открываем файл data_offers и смотрим св-ва датасета\n",
    "#опишите свойства датасета\n",
    "#df_offers = pd.read_csv('data_offers.csv')\n",
    "#далее ваш код"
   ]
  },
  {
   "cell_type": "code",
   "execution_count": 15,
   "metadata": {},
   "outputs": [],
   "source": [
    "url='https://drive.google.com/file/d/10VplaASgDrFFvTmJuIzlMB2epFkmbmwf/view?usp=sharing'\n",
    "\n",
    "file_id = url.split('/')[-2]\n",
    "dwn_url='https://drive.google.com/uc?export=download&id=' + file_id\n",
    "url2 = requests.get(dwn_url).text\n",
    "csv_raw = StringIO(url2)\n",
    "df_offers = pd.read_csv(csv_raw)"
   ]
  },
  {
   "cell_type": "markdown",
   "metadata": {},
   "source": [
    "Посмотрим на загруженные данные. 334363 rows × 2 columns"
   ]
  },
  {
   "cell_type": "code",
   "execution_count": 16,
   "metadata": {},
   "outputs": [
    {
     "data": {
      "text/html": [
       "<div>\n",
       "<style scoped>\n",
       "    .dataframe tbody tr th:only-of-type {\n",
       "        vertical-align: middle;\n",
       "    }\n",
       "\n",
       "    .dataframe tbody tr th {\n",
       "        vertical-align: top;\n",
       "    }\n",
       "\n",
       "    .dataframe thead th {\n",
       "        text-align: right;\n",
       "    }\n",
       "</style>\n",
       "<table border=\"1\" class=\"dataframe\">\n",
       "  <thead>\n",
       "    <tr style=\"text-align: right;\">\n",
       "      <th></th>\n",
       "      <th>order_gk</th>\n",
       "      <th>offer_id</th>\n",
       "    </tr>\n",
       "  </thead>\n",
       "  <tbody>\n",
       "    <tr>\n",
       "      <th>0</th>\n",
       "      <td>3000579625629</td>\n",
       "      <td>300050936206</td>\n",
       "    </tr>\n",
       "    <tr>\n",
       "      <th>1</th>\n",
       "      <td>3000627306450</td>\n",
       "      <td>300052064651</td>\n",
       "    </tr>\n",
       "    <tr>\n",
       "      <th>2</th>\n",
       "      <td>3000632920686</td>\n",
       "      <td>300052408812</td>\n",
       "    </tr>\n",
       "    <tr>\n",
       "      <th>3</th>\n",
       "      <td>3000632771725</td>\n",
       "      <td>300052393030</td>\n",
       "    </tr>\n",
       "    <tr>\n",
       "      <th>4</th>\n",
       "      <td>3000583467642</td>\n",
       "      <td>300051001196</td>\n",
       "    </tr>\n",
       "    <tr>\n",
       "      <th>...</th>\n",
       "      <td>...</td>\n",
       "      <td>...</td>\n",
       "    </tr>\n",
       "    <tr>\n",
       "      <th>334358</th>\n",
       "      <td>3000552921666</td>\n",
       "      <td>300050611632</td>\n",
       "    </tr>\n",
       "    <tr>\n",
       "      <th>334359</th>\n",
       "      <td>3000593796526</td>\n",
       "      <td>300051443024</td>\n",
       "    </tr>\n",
       "    <tr>\n",
       "      <th>334360</th>\n",
       "      <td>3000590955748</td>\n",
       "      <td>300051340498</td>\n",
       "    </tr>\n",
       "    <tr>\n",
       "      <th>334361</th>\n",
       "      <td>3000557510943</td>\n",
       "      <td>300050772593</td>\n",
       "    </tr>\n",
       "    <tr>\n",
       "      <th>334362</th>\n",
       "      <td>3000630405861</td>\n",
       "      <td>300052291934</td>\n",
       "    </tr>\n",
       "  </tbody>\n",
       "</table>\n",
       "<p>334363 rows × 2 columns</p>\n",
       "</div>"
      ],
      "text/plain": [
       "             order_gk      offer_id\n",
       "0       3000579625629  300050936206\n",
       "1       3000627306450  300052064651\n",
       "2       3000632920686  300052408812\n",
       "3       3000632771725  300052393030\n",
       "4       3000583467642  300051001196\n",
       "...               ...           ...\n",
       "334358  3000552921666  300050611632\n",
       "334359  3000593796526  300051443024\n",
       "334360  3000590955748  300051340498\n",
       "334361  3000557510943  300050772593\n",
       "334362  3000630405861  300052291934\n",
       "\n",
       "[334363 rows x 2 columns]"
      ]
     },
     "execution_count": 16,
     "metadata": {},
     "output_type": "execute_result"
    }
   ],
   "source": [
    "df_offers"
   ]
  },
  {
   "cell_type": "code",
   "execution_count": 17,
   "metadata": {},
   "outputs": [
    {
     "data": {
      "text/plain": [
       "order_gk    0\n",
       "offer_id    0\n",
       "dtype: int64"
      ]
     },
     "execution_count": 17,
     "metadata": {},
     "output_type": "execute_result"
    }
   ],
   "source": [
    "df_offers.isna().sum() #в данных нет пропущенных значений"
   ]
  },
  {
   "cell_type": "code",
   "execution_count": 18,
   "metadata": {},
   "outputs": [
    {
     "data": {
      "text/plain": [
       "order_gk    int64\n",
       "offer_id    int64\n",
       "dtype: object"
      ]
     },
     "execution_count": 18,
     "metadata": {},
     "output_type": "execute_result"
    }
   ],
   "source": [
    "df_offers.dtypes #посмотрим на типы данных"
   ]
  },
  {
   "cell_type": "code",
   "execution_count": 19,
   "metadata": {},
   "outputs": [
    {
     "data": {
      "text/plain": [
       "order_gk     97967\n",
       "offer_id    334363\n",
       "dtype: int64"
      ]
     },
     "execution_count": 19,
     "metadata": {},
     "output_type": "execute_result"
    }
   ],
   "source": [
    "df_offers.nunique() #смотрим на уникальные значения"
   ]
  },
  {
   "cell_type": "raw",
   "metadata": {},
   "source": [
    "Сколько в среднем офферов приходится на один заказ?"
   ]
  },
  {
   "cell_type": "code",
   "execution_count": 20,
   "metadata": {},
   "outputs": [
    {
     "data": {
      "text/plain": [
       "3.41"
      ]
     },
     "execution_count": 20,
     "metadata": {},
     "output_type": "execute_result"
    }
   ],
   "source": [
    "round(df_offers.offer_id.nunique()/df_offers.order_gk.nunique(), 2)"
   ]
  },
  {
   "cell_type": "code",
   "execution_count": 21,
   "metadata": {},
   "outputs": [],
   "source": [
    "#проверим есть или выбросы (аномалии) во времени до отмены заказов, используя \"ящик с усами\" из библиотеки Seaborn,\n",
    "#отбросив строки с пустыми значениями\n",
    "#визуализируйте и опишите\n",
    "#далее ваш код"
   ]
  },
  {
   "cell_type": "code",
   "execution_count": 22,
   "metadata": {},
   "outputs": [
    {
     "data": {
      "text/html": [
       "<div>\n",
       "<style scoped>\n",
       "    .dataframe tbody tr th:only-of-type {\n",
       "        vertical-align: middle;\n",
       "    }\n",
       "\n",
       "    .dataframe tbody tr th {\n",
       "        vertical-align: top;\n",
       "    }\n",
       "\n",
       "    .dataframe thead th {\n",
       "        text-align: right;\n",
       "    }\n",
       "</style>\n",
       "<table border=\"1\" class=\"dataframe\">\n",
       "  <thead>\n",
       "    <tr style=\"text-align: right;\">\n",
       "      <th></th>\n",
       "      <th>order_datetime</th>\n",
       "      <th>order_gk</th>\n",
       "      <th>order_status_key</th>\n",
       "      <th>is_courier_assigned_key</th>\n",
       "      <th>cancellations_time_in_seconds</th>\n",
       "    </tr>\n",
       "  </thead>\n",
       "  <tbody>\n",
       "    <tr>\n",
       "      <th>0</th>\n",
       "      <td>2020-07-22 18:08:07</td>\n",
       "      <td>3000583041974</td>\n",
       "      <td>4</td>\n",
       "      <td>1</td>\n",
       "      <td>198.0</td>\n",
       "    </tr>\n",
       "    <tr>\n",
       "      <th>1</th>\n",
       "      <td>2020-07-22 20:57:32</td>\n",
       "      <td>3000583116437</td>\n",
       "      <td>4</td>\n",
       "      <td>0</td>\n",
       "      <td>128.0</td>\n",
       "    </tr>\n",
       "    <tr>\n",
       "      <th>2</th>\n",
       "      <td>2020-07-22 12:07:50</td>\n",
       "      <td>3000582891479</td>\n",
       "      <td>4</td>\n",
       "      <td>1</td>\n",
       "      <td>46.0</td>\n",
       "    </tr>\n",
       "    <tr>\n",
       "      <th>3</th>\n",
       "      <td>2020-07-22 13:50:20</td>\n",
       "      <td>3000582941169</td>\n",
       "      <td>4</td>\n",
       "      <td>1</td>\n",
       "      <td>62.0</td>\n",
       "    </tr>\n",
       "    <tr>\n",
       "      <th>9</th>\n",
       "      <td>2020-07-22 06:33:52</td>\n",
       "      <td>3000582765616</td>\n",
       "      <td>4</td>\n",
       "      <td>0</td>\n",
       "      <td>78.0</td>\n",
       "    </tr>\n",
       "    <tr>\n",
       "      <th>...</th>\n",
       "      <td>...</td>\n",
       "      <td>...</td>\n",
       "      <td>...</td>\n",
       "      <td>...</td>\n",
       "      <td>...</td>\n",
       "    </tr>\n",
       "    <tr>\n",
       "      <th>10711</th>\n",
       "      <td>2020-07-22 13:11:35</td>\n",
       "      <td>3000599186906</td>\n",
       "      <td>4</td>\n",
       "      <td>0</td>\n",
       "      <td>36.0</td>\n",
       "    </tr>\n",
       "    <tr>\n",
       "      <th>10712</th>\n",
       "      <td>2020-07-22 13:13:55</td>\n",
       "      <td>3000599186962</td>\n",
       "      <td>4</td>\n",
       "      <td>0</td>\n",
       "      <td>4.0</td>\n",
       "    </tr>\n",
       "    <tr>\n",
       "      <th>10713</th>\n",
       "      <td>2020-07-22 13:17:21</td>\n",
       "      <td>3000599187034</td>\n",
       "      <td>4</td>\n",
       "      <td>1</td>\n",
       "      <td>34.0</td>\n",
       "    </tr>\n",
       "    <tr>\n",
       "      <th>10714</th>\n",
       "      <td>2020-07-22 13:16:28</td>\n",
       "      <td>3000599187024</td>\n",
       "      <td>4</td>\n",
       "      <td>0</td>\n",
       "      <td>6.0</td>\n",
       "    </tr>\n",
       "    <tr>\n",
       "      <th>10715</th>\n",
       "      <td>2020-07-22 11:49:35</td>\n",
       "      <td>3000592871241</td>\n",
       "      <td>4</td>\n",
       "      <td>1</td>\n",
       "      <td>40.0</td>\n",
       "    </tr>\n",
       "  </tbody>\n",
       "</table>\n",
       "<p>7307 rows × 5 columns</p>\n",
       "</div>"
      ],
      "text/plain": [
       "           order_datetime       order_gk  order_status_key  \\\n",
       "0     2020-07-22 18:08:07  3000583041974                 4   \n",
       "1     2020-07-22 20:57:32  3000583116437                 4   \n",
       "2     2020-07-22 12:07:50  3000582891479                 4   \n",
       "3     2020-07-22 13:50:20  3000582941169                 4   \n",
       "9     2020-07-22 06:33:52  3000582765616                 4   \n",
       "...                   ...            ...               ...   \n",
       "10711 2020-07-22 13:11:35  3000599186906                 4   \n",
       "10712 2020-07-22 13:13:55  3000599186962                 4   \n",
       "10713 2020-07-22 13:17:21  3000599187034                 4   \n",
       "10714 2020-07-22 13:16:28  3000599187024                 4   \n",
       "10715 2020-07-22 11:49:35  3000592871241                 4   \n",
       "\n",
       "       is_courier_assigned_key  cancellations_time_in_seconds  \n",
       "0                            1                          198.0  \n",
       "1                            0                          128.0  \n",
       "2                            1                           46.0  \n",
       "3                            1                           62.0  \n",
       "9                            0                           78.0  \n",
       "...                        ...                            ...  \n",
       "10711                        0                           36.0  \n",
       "10712                        0                            4.0  \n",
       "10713                        1                           34.0  \n",
       "10714                        0                            6.0  \n",
       "10715                        1                           40.0  \n",
       "\n",
       "[7307 rows x 5 columns]"
      ]
     },
     "execution_count": 22,
     "metadata": {},
     "output_type": "execute_result"
    }
   ],
   "source": [
    "df = df_orders.dropna(subset=['cancellations_time_in_seconds'])#удаляем строки с пустыми значениями"
   ]
  },
  {
   "cell_type": "code",
   "execution_count": 23,
   "metadata": {},
   "outputs": [
    {
     "name": "stderr",
     "output_type": "stream",
     "text": [
      "/opt/tljh/user/lib/python3.7/site-packages/seaborn/_decorators.py:43: FutureWarning: Pass the following variable as a keyword arg: x. From version 0.12, the only valid positional argument will be `data`, and passing other arguments without an explicit keyword will result in an error or misinterpretation.\n",
      "  FutureWarning\n"
     ]
    },
    {
     "data": {
      "text/plain": [
       "<matplotlib.axes._subplots.AxesSubplot at 0x7f4cbeb3dac8>"
      ]
     },
     "execution_count": 23,
     "metadata": {},
     "output_type": "execute_result"
    },
    {
     "data": {
      "image/png": "[encoded data removed]",
      "text/plain": [
       "<Figure size 1440x576 with 1 Axes>"
      ]
     },
     "metadata": {
      "needs_background": "light"
     },
     "output_type": "display_data"
    }
   ],
   "source": [
    "plt.figure(figsize=(20, 8))\n",
    "sns.boxplot(df.cancellations_time_in_seconds)"
   ]
  },
  {
   "cell_type": "markdown",
   "metadata": {},
   "source": [
    "Видим, есть ли выбросы?"
   ]
  },
  {
   "cell_type": "raw",
   "metadata": {},
   "source": [
    "Судя по боксплоту, выбросы есть. И весьма значительные. Однако, я бы не стал считать их \"аномальными\", поскольку все эти отмены были призведены людьми:"
   ]
  },
  {
   "cell_type": "code",
   "execution_count": 24,
   "metadata": {},
   "outputs": [
    {
     "data": {
      "text/plain": [
       "array([4])"
      ]
     },
     "execution_count": 24,
     "metadata": {},
     "output_type": "execute_result"
    }
   ],
   "source": [
    "df.order_status_key.unique() "
   ]
  },
  {
   "cell_type": "raw",
   "metadata": {},
   "source": [
    "Посмотрим на данные по времени отказа, отсортировав по убыванию.\n",
    "Для удобства восприятия переведем секунды в минуты:"
   ]
  },
  {
   "cell_type": "code",
   "execution_count": 26,
   "metadata": {
    "scrolled": true
   },
   "outputs": [
    {
     "name": "stderr",
     "output_type": "stream",
     "text": [
      "/opt/tljh/user/lib/python3.7/site-packages/ipykernel_launcher.py:1: SettingWithCopyWarning: \n",
      "A value is trying to be set on a copy of a slice from a DataFrame.\n",
      "Try using .loc[row_indexer,col_indexer] = value instead\n",
      "\n",
      "See the caveats in the documentation: https://pandas.pydata.org/pandas-docs/stable/user_guide/indexing.html#returning-a-view-versus-a-copy\n",
      "  \"\"\"Entry point for launching an IPython kernel.\n"
     ]
    }
   ],
   "source": [
    "df[\"cancellations_time_in_minutes\"] = round(df.cancellations_time_in_seconds/60)"
   ]
  },
  {
   "cell_type": "code",
   "execution_count": 27,
   "metadata": {
    "scrolled": true
   },
   "outputs": [
    {
     "data": {
      "text/html": [
       "<div>\n",
       "<style scoped>\n",
       "    .dataframe tbody tr th:only-of-type {\n",
       "        vertical-align: middle;\n",
       "    }\n",
       "\n",
       "    .dataframe tbody tr th {\n",
       "        vertical-align: top;\n",
       "    }\n",
       "\n",
       "    .dataframe thead th {\n",
       "        text-align: right;\n",
       "    }\n",
       "</style>\n",
       "<table border=\"1\" class=\"dataframe\">\n",
       "  <thead>\n",
       "    <tr style=\"text-align: right;\">\n",
       "      <th></th>\n",
       "      <th>order_datetime</th>\n",
       "      <th>order_gk</th>\n",
       "      <th>order_status_key</th>\n",
       "      <th>is_courier_assigned_key</th>\n",
       "      <th>cancellations_time_in_seconds</th>\n",
       "      <th>cancellations_time_in_minutes</th>\n",
       "    </tr>\n",
       "  </thead>\n",
       "  <tbody>\n",
       "    <tr>\n",
       "      <th>8369</th>\n",
       "      <td>2020-07-22 13:21:20</td>\n",
       "      <td>3000589207012</td>\n",
       "      <td>4</td>\n",
       "      <td>1</td>\n",
       "      <td>4303.0</td>\n",
       "      <td>72.0</td>\n",
       "    </tr>\n",
       "    <tr>\n",
       "      <th>3442</th>\n",
       "      <td>2020-07-22 23:43:11</td>\n",
       "      <td>3000622541402</td>\n",
       "      <td>4</td>\n",
       "      <td>0</td>\n",
       "      <td>4097.0</td>\n",
       "      <td>68.0</td>\n",
       "    </tr>\n",
       "    <tr>\n",
       "      <th>8473</th>\n",
       "      <td>2020-07-22 06:48:55</td>\n",
       "      <td>3000577775717</td>\n",
       "      <td>4</td>\n",
       "      <td>1</td>\n",
       "      <td>3697.0</td>\n",
       "      <td>62.0</td>\n",
       "    </tr>\n",
       "    <tr>\n",
       "      <th>6825</th>\n",
       "      <td>2020-07-22 05:13:30</td>\n",
       "      <td>3000630305614</td>\n",
       "      <td>4</td>\n",
       "      <td>1</td>\n",
       "      <td>2680.0</td>\n",
       "      <td>45.0</td>\n",
       "    </tr>\n",
       "    <tr>\n",
       "      <th>9924</th>\n",
       "      <td>2020-07-22 18:30:46</td>\n",
       "      <td>3000618075800</td>\n",
       "      <td>4</td>\n",
       "      <td>1</td>\n",
       "      <td>2376.0</td>\n",
       "      <td>40.0</td>\n",
       "    </tr>\n",
       "    <tr>\n",
       "      <th>...</th>\n",
       "      <td>...</td>\n",
       "      <td>...</td>\n",
       "      <td>...</td>\n",
       "      <td>...</td>\n",
       "      <td>...</td>\n",
       "      <td>...</td>\n",
       "    </tr>\n",
       "    <tr>\n",
       "      <th>8715</th>\n",
       "      <td>2020-07-22 07:49:06</td>\n",
       "      <td>3000583441854</td>\n",
       "      <td>4</td>\n",
       "      <td>0</td>\n",
       "      <td>4.0</td>\n",
       "      <td>0.0</td>\n",
       "    </tr>\n",
       "    <tr>\n",
       "      <th>5361</th>\n",
       "      <td>2020-07-22 21:44:49</td>\n",
       "      <td>3000583791400</td>\n",
       "      <td>4</td>\n",
       "      <td>0</td>\n",
       "      <td>3.0</td>\n",
       "      <td>0.0</td>\n",
       "    </tr>\n",
       "    <tr>\n",
       "      <th>627</th>\n",
       "      <td>2020-07-22 13:39:40</td>\n",
       "      <td>3000584891213</td>\n",
       "      <td>4</td>\n",
       "      <td>0</td>\n",
       "      <td>3.0</td>\n",
       "      <td>0.0</td>\n",
       "    </tr>\n",
       "    <tr>\n",
       "      <th>9566</th>\n",
       "      <td>2020-07-22 10:58:43</td>\n",
       "      <td>3000556096297</td>\n",
       "      <td>4</td>\n",
       "      <td>0</td>\n",
       "      <td>3.0</td>\n",
       "      <td>0.0</td>\n",
       "    </tr>\n",
       "    <tr>\n",
       "      <th>4611</th>\n",
       "      <td>2020-07-22 08:04:16</td>\n",
       "      <td>3000592772034</td>\n",
       "      <td>4</td>\n",
       "      <td>0</td>\n",
       "      <td>3.0</td>\n",
       "      <td>0.0</td>\n",
       "    </tr>\n",
       "  </tbody>\n",
       "</table>\n",
       "<p>7307 rows × 6 columns</p>\n",
       "</div>"
      ],
      "text/plain": [
       "          order_datetime       order_gk  order_status_key  \\\n",
       "8369 2020-07-22 13:21:20  3000589207012                 4   \n",
       "3442 2020-07-22 23:43:11  3000622541402                 4   \n",
       "8473 2020-07-22 06:48:55  3000577775717                 4   \n",
       "6825 2020-07-22 05:13:30  3000630305614                 4   \n",
       "9924 2020-07-22 18:30:46  3000618075800                 4   \n",
       "...                  ...            ...               ...   \n",
       "8715 2020-07-22 07:49:06  3000583441854                 4   \n",
       "5361 2020-07-22 21:44:49  3000583791400                 4   \n",
       "627  2020-07-22 13:39:40  3000584891213                 4   \n",
       "9566 2020-07-22 10:58:43  3000556096297                 4   \n",
       "4611 2020-07-22 08:04:16  3000592772034                 4   \n",
       "\n",
       "      is_courier_assigned_key  cancellations_time_in_seconds  \\\n",
       "8369                        1                         4303.0   \n",
       "3442                        0                         4097.0   \n",
       "8473                        1                         3697.0   \n",
       "6825                        1                         2680.0   \n",
       "9924                        1                         2376.0   \n",
       "...                       ...                            ...   \n",
       "8715                        0                            4.0   \n",
       "5361                        0                            3.0   \n",
       "627                         0                            3.0   \n",
       "9566                        0                            3.0   \n",
       "4611                        0                            3.0   \n",
       "\n",
       "      cancellations_time_in_minutes  \n",
       "8369                           72.0  \n",
       "3442                           68.0  \n",
       "8473                           62.0  \n",
       "6825                           45.0  \n",
       "9924                           40.0  \n",
       "...                             ...  \n",
       "8715                            0.0  \n",
       "5361                            0.0  \n",
       "627                             0.0  \n",
       "9566                            0.0  \n",
       "4611                            0.0  \n",
       "\n",
       "[7307 rows x 6 columns]"
      ]
     },
     "execution_count": 27,
     "metadata": {},
     "output_type": "execute_result"
    }
   ],
   "source": [
    "df.sort_values('cancellations_time_in_seconds', ascending=False)"
   ]
  },
  {
   "cell_type": "raw",
   "metadata": {},
   "source": [
    "Посмотрим отдельно на заказы, которым был назначен курьер:"
   ]
  },
  {
   "cell_type": "code",
   "execution_count": 28,
   "metadata": {
    "scrolled": true
   },
   "outputs": [
    {
     "data": {
      "text/html": [
       "<div>\n",
       "<style scoped>\n",
       "    .dataframe tbody tr th:only-of-type {\n",
       "        vertical-align: middle;\n",
       "    }\n",
       "\n",
       "    .dataframe tbody tr th {\n",
       "        vertical-align: top;\n",
       "    }\n",
       "\n",
       "    .dataframe thead th {\n",
       "        text-align: right;\n",
       "    }\n",
       "</style>\n",
       "<table border=\"1\" class=\"dataframe\">\n",
       "  <thead>\n",
       "    <tr style=\"text-align: right;\">\n",
       "      <th></th>\n",
       "      <th>order_datetime</th>\n",
       "      <th>order_gk</th>\n",
       "      <th>order_status_key</th>\n",
       "      <th>is_courier_assigned_key</th>\n",
       "      <th>cancellations_time_in_seconds</th>\n",
       "      <th>cancellations_time_in_minutes</th>\n",
       "    </tr>\n",
       "  </thead>\n",
       "  <tbody>\n",
       "    <tr>\n",
       "      <th>8369</th>\n",
       "      <td>2020-07-22 13:21:20</td>\n",
       "      <td>3000589207012</td>\n",
       "      <td>4</td>\n",
       "      <td>1</td>\n",
       "      <td>4303.0</td>\n",
       "      <td>72.0</td>\n",
       "    </tr>\n",
       "    <tr>\n",
       "      <th>8473</th>\n",
       "      <td>2020-07-22 06:48:55</td>\n",
       "      <td>3000577775717</td>\n",
       "      <td>4</td>\n",
       "      <td>1</td>\n",
       "      <td>3697.0</td>\n",
       "      <td>62.0</td>\n",
       "    </tr>\n",
       "    <tr>\n",
       "      <th>6825</th>\n",
       "      <td>2020-07-22 05:13:30</td>\n",
       "      <td>3000630305614</td>\n",
       "      <td>4</td>\n",
       "      <td>1</td>\n",
       "      <td>2680.0</td>\n",
       "      <td>45.0</td>\n",
       "    </tr>\n",
       "    <tr>\n",
       "      <th>9924</th>\n",
       "      <td>2020-07-22 18:30:46</td>\n",
       "      <td>3000618075800</td>\n",
       "      <td>4</td>\n",
       "      <td>1</td>\n",
       "      <td>2376.0</td>\n",
       "      <td>40.0</td>\n",
       "    </tr>\n",
       "    <tr>\n",
       "      <th>3956</th>\n",
       "      <td>2020-07-22 14:23:54</td>\n",
       "      <td>3000557285679</td>\n",
       "      <td>4</td>\n",
       "      <td>1</td>\n",
       "      <td>2190.0</td>\n",
       "      <td>36.0</td>\n",
       "    </tr>\n",
       "    <tr>\n",
       "      <th>5790</th>\n",
       "      <td>2020-07-22 18:11:02</td>\n",
       "      <td>3000627382683</td>\n",
       "      <td>4</td>\n",
       "      <td>1</td>\n",
       "      <td>2155.0</td>\n",
       "      <td>36.0</td>\n",
       "    </tr>\n",
       "    <tr>\n",
       "      <th>3443</th>\n",
       "      <td>2020-07-22 23:57:50</td>\n",
       "      <td>3000622541727</td>\n",
       "      <td>4</td>\n",
       "      <td>1</td>\n",
       "      <td>1885.0</td>\n",
       "      <td>31.0</td>\n",
       "    </tr>\n",
       "    <tr>\n",
       "      <th>3505</th>\n",
       "      <td>2020-07-22 01:17:29</td>\n",
       "      <td>3000558186529</td>\n",
       "      <td>4</td>\n",
       "      <td>1</td>\n",
       "      <td>1873.0</td>\n",
       "      <td>31.0</td>\n",
       "    </tr>\n",
       "    <tr>\n",
       "      <th>3480</th>\n",
       "      <td>2020-07-22 00:42:25</td>\n",
       "      <td>3000585816327</td>\n",
       "      <td>4</td>\n",
       "      <td>1</td>\n",
       "      <td>1785.0</td>\n",
       "      <td>30.0</td>\n",
       "    </tr>\n",
       "    <tr>\n",
       "      <th>10310</th>\n",
       "      <td>2020-07-22 12:35:39</td>\n",
       "      <td>3000555496022</td>\n",
       "      <td>4</td>\n",
       "      <td>1</td>\n",
       "      <td>1774.0</td>\n",
       "      <td>30.0</td>\n",
       "    </tr>\n",
       "    <tr>\n",
       "      <th>9362</th>\n",
       "      <td>2020-07-22 18:00:51</td>\n",
       "      <td>3000577401794</td>\n",
       "      <td>4</td>\n",
       "      <td>1</td>\n",
       "      <td>1769.0</td>\n",
       "      <td>29.0</td>\n",
       "    </tr>\n",
       "    <tr>\n",
       "      <th>10168</th>\n",
       "      <td>2020-07-22 23:19:40</td>\n",
       "      <td>3000590757399</td>\n",
       "      <td>4</td>\n",
       "      <td>1</td>\n",
       "      <td>1744.0</td>\n",
       "      <td>29.0</td>\n",
       "    </tr>\n",
       "    <tr>\n",
       "      <th>587</th>\n",
       "      <td>2020-07-22 08:45:43</td>\n",
       "      <td>3000584765892</td>\n",
       "      <td>4</td>\n",
       "      <td>1</td>\n",
       "      <td>1710.0</td>\n",
       "      <td>28.0</td>\n",
       "    </tr>\n",
       "    <tr>\n",
       "      <th>8628</th>\n",
       "      <td>2020-07-22 10:11:32</td>\n",
       "      <td>3000592821720</td>\n",
       "      <td>4</td>\n",
       "      <td>1</td>\n",
       "      <td>1650.0</td>\n",
       "      <td>28.0</td>\n",
       "    </tr>\n",
       "    <tr>\n",
       "      <th>10230</th>\n",
       "      <td>2020-07-22 03:28:53</td>\n",
       "      <td>3000590256037</td>\n",
       "      <td>4</td>\n",
       "      <td>1</td>\n",
       "      <td>1536.0</td>\n",
       "      <td>26.0</td>\n",
       "    </tr>\n",
       "    <tr>\n",
       "      <th>10228</th>\n",
       "      <td>2020-07-22 11:25:37</td>\n",
       "      <td>3000590480744</td>\n",
       "      <td>4</td>\n",
       "      <td>1</td>\n",
       "      <td>1536.0</td>\n",
       "      <td>26.0</td>\n",
       "    </tr>\n",
       "    <tr>\n",
       "      <th>5497</th>\n",
       "      <td>2020-07-22 16:02:17</td>\n",
       "      <td>3000551231376</td>\n",
       "      <td>4</td>\n",
       "      <td>1</td>\n",
       "      <td>1526.0</td>\n",
       "      <td>25.0</td>\n",
       "    </tr>\n",
       "    <tr>\n",
       "      <th>6051</th>\n",
       "      <td>2020-07-22 17:19:06</td>\n",
       "      <td>3000623018591</td>\n",
       "      <td>4</td>\n",
       "      <td>1</td>\n",
       "      <td>1476.0</td>\n",
       "      <td>25.0</td>\n",
       "    </tr>\n",
       "    <tr>\n",
       "      <th>8954</th>\n",
       "      <td>2020-07-22 11:23:32</td>\n",
       "      <td>3000557860574</td>\n",
       "      <td>4</td>\n",
       "      <td>1</td>\n",
       "      <td>1458.0</td>\n",
       "      <td>24.0</td>\n",
       "    </tr>\n",
       "    <tr>\n",
       "      <th>3650</th>\n",
       "      <td>2020-07-22 17:10:54</td>\n",
       "      <td>3000631257053</td>\n",
       "      <td>4</td>\n",
       "      <td>1</td>\n",
       "      <td>1451.0</td>\n",
       "      <td>24.0</td>\n",
       "    </tr>\n",
       "    <tr>\n",
       "      <th>1318</th>\n",
       "      <td>2020-07-22 06:31:33</td>\n",
       "      <td>3000550355598</td>\n",
       "      <td>4</td>\n",
       "      <td>1</td>\n",
       "      <td>1442.0</td>\n",
       "      <td>24.0</td>\n",
       "    </tr>\n",
       "    <tr>\n",
       "      <th>3033</th>\n",
       "      <td>2020-07-22 17:37:13</td>\n",
       "      <td>3000624991575</td>\n",
       "      <td>4</td>\n",
       "      <td>1</td>\n",
       "      <td>1346.0</td>\n",
       "      <td>22.0</td>\n",
       "    </tr>\n",
       "    <tr>\n",
       "      <th>9481</th>\n",
       "      <td>2020-07-22 15:37:37</td>\n",
       "      <td>3000552970803</td>\n",
       "      <td>4</td>\n",
       "      <td>1</td>\n",
       "      <td>1346.0</td>\n",
       "      <td>22.0</td>\n",
       "    </tr>\n",
       "    <tr>\n",
       "      <th>9592</th>\n",
       "      <td>2020-07-22 16:44:15</td>\n",
       "      <td>3000556246183</td>\n",
       "      <td>4</td>\n",
       "      <td>1</td>\n",
       "      <td>1344.0</td>\n",
       "      <td>22.0</td>\n",
       "    </tr>\n",
       "    <tr>\n",
       "      <th>3515</th>\n",
       "      <td>2020-07-22 03:14:09</td>\n",
       "      <td>3000617676327</td>\n",
       "      <td>4</td>\n",
       "      <td>1</td>\n",
       "      <td>1341.0</td>\n",
       "      <td>22.0</td>\n",
       "    </tr>\n",
       "    <tr>\n",
       "      <th>6718</th>\n",
       "      <td>2020-07-22 05:16:59</td>\n",
       "      <td>3000595945870</td>\n",
       "      <td>4</td>\n",
       "      <td>1</td>\n",
       "      <td>1311.0</td>\n",
       "      <td>22.0</td>\n",
       "    </tr>\n",
       "    <tr>\n",
       "      <th>5485</th>\n",
       "      <td>2020-07-22 18:26:32</td>\n",
       "      <td>3000551281797</td>\n",
       "      <td>4</td>\n",
       "      <td>1</td>\n",
       "      <td>1310.0</td>\n",
       "      <td>22.0</td>\n",
       "    </tr>\n",
       "    <tr>\n",
       "      <th>8256</th>\n",
       "      <td>2020-07-22 08:50:28</td>\n",
       "      <td>3000584117007</td>\n",
       "      <td>4</td>\n",
       "      <td>1</td>\n",
       "      <td>1308.0</td>\n",
       "      <td>22.0</td>\n",
       "    </tr>\n",
       "    <tr>\n",
       "      <th>3483</th>\n",
       "      <td>2020-07-22 23:51:58</td>\n",
       "      <td>3000579501641</td>\n",
       "      <td>4</td>\n",
       "      <td>1</td>\n",
       "      <td>1281.0</td>\n",
       "      <td>21.0</td>\n",
       "    </tr>\n",
       "    <tr>\n",
       "      <th>3688</th>\n",
       "      <td>2020-07-22 12:13:11</td>\n",
       "      <td>3000551131445</td>\n",
       "      <td>4</td>\n",
       "      <td>1</td>\n",
       "      <td>1259.0</td>\n",
       "      <td>21.0</td>\n",
       "    </tr>\n",
       "    <tr>\n",
       "      <th>4463</th>\n",
       "      <td>2020-07-22 13:57:15</td>\n",
       "      <td>3000594871915</td>\n",
       "      <td>4</td>\n",
       "      <td>1</td>\n",
       "      <td>1212.0</td>\n",
       "      <td>20.0</td>\n",
       "    </tr>\n",
       "    <tr>\n",
       "      <th>8262</th>\n",
       "      <td>2020-07-22 16:05:16</td>\n",
       "      <td>3000584292378</td>\n",
       "      <td>4</td>\n",
       "      <td>1</td>\n",
       "      <td>1212.0</td>\n",
       "      <td>20.0</td>\n",
       "    </tr>\n",
       "    <tr>\n",
       "      <th>8113</th>\n",
       "      <td>2020-07-22 00:40:46</td>\n",
       "      <td>3000625166349</td>\n",
       "      <td>4</td>\n",
       "      <td>1</td>\n",
       "      <td>1210.0</td>\n",
       "      <td>20.0</td>\n",
       "    </tr>\n",
       "    <tr>\n",
       "      <th>9806</th>\n",
       "      <td>2020-07-22 02:15:58</td>\n",
       "      <td>3000593920918</td>\n",
       "      <td>4</td>\n",
       "      <td>1</td>\n",
       "      <td>1206.0</td>\n",
       "      <td>20.0</td>\n",
       "    </tr>\n",
       "    <tr>\n",
       "      <th>2018</th>\n",
       "      <td>2020-07-22 23:41:46</td>\n",
       "      <td>3000595771143</td>\n",
       "      <td>4</td>\n",
       "      <td>1</td>\n",
       "      <td>1205.0</td>\n",
       "      <td>20.0</td>\n",
       "    </tr>\n",
       "    <tr>\n",
       "      <th>1350</th>\n",
       "      <td>2020-07-22 17:47:55</td>\n",
       "      <td>3000550631237</td>\n",
       "      <td>4</td>\n",
       "      <td>1</td>\n",
       "      <td>1190.0</td>\n",
       "      <td>20.0</td>\n",
       "    </tr>\n",
       "    <tr>\n",
       "      <th>2559</th>\n",
       "      <td>2020-07-22 09:23:22</td>\n",
       "      <td>3000579800614</td>\n",
       "      <td>4</td>\n",
       "      <td>1</td>\n",
       "      <td>1186.0</td>\n",
       "      <td>20.0</td>\n",
       "    </tr>\n",
       "    <tr>\n",
       "      <th>3109</th>\n",
       "      <td>2020-07-22 14:10:30</td>\n",
       "      <td>3000624892423</td>\n",
       "      <td>4</td>\n",
       "      <td>1</td>\n",
       "      <td>1183.0</td>\n",
       "      <td>20.0</td>\n",
       "    </tr>\n",
       "    <tr>\n",
       "      <th>5525</th>\n",
       "      <td>2020-07-22 19:57:25</td>\n",
       "      <td>3000551331400</td>\n",
       "      <td>4</td>\n",
       "      <td>1</td>\n",
       "      <td>1166.0</td>\n",
       "      <td>19.0</td>\n",
       "    </tr>\n",
       "    <tr>\n",
       "      <th>1851</th>\n",
       "      <td>2020-07-22 01:30:40</td>\n",
       "      <td>3000551970359</td>\n",
       "      <td>4</td>\n",
       "      <td>1</td>\n",
       "      <td>1157.0</td>\n",
       "      <td>19.0</td>\n",
       "    </tr>\n",
       "    <tr>\n",
       "      <th>4419</th>\n",
       "      <td>2020-07-22 17:40:11</td>\n",
       "      <td>3000594971272</td>\n",
       "      <td>4</td>\n",
       "      <td>1</td>\n",
       "      <td>1151.0</td>\n",
       "      <td>19.0</td>\n",
       "    </tr>\n",
       "    <tr>\n",
       "      <th>8263</th>\n",
       "      <td>2020-07-22 02:11:47</td>\n",
       "      <td>3000598910825</td>\n",
       "      <td>4</td>\n",
       "      <td>1</td>\n",
       "      <td>1146.0</td>\n",
       "      <td>19.0</td>\n",
       "    </tr>\n",
       "    <tr>\n",
       "      <th>7067</th>\n",
       "      <td>2020-07-22 00:10:12</td>\n",
       "      <td>3000590781515</td>\n",
       "      <td>4</td>\n",
       "      <td>1</td>\n",
       "      <td>1146.0</td>\n",
       "      <td>19.0</td>\n",
       "    </tr>\n",
       "    <tr>\n",
       "      <th>6393</th>\n",
       "      <td>2020-07-22 22:40:42</td>\n",
       "      <td>3000595096553</td>\n",
       "      <td>4</td>\n",
       "      <td>1</td>\n",
       "      <td>1142.0</td>\n",
       "      <td>19.0</td>\n",
       "    </tr>\n",
       "    <tr>\n",
       "      <th>5438</th>\n",
       "      <td>2020-07-22 03:36:35</td>\n",
       "      <td>3000557010413</td>\n",
       "      <td>4</td>\n",
       "      <td>1</td>\n",
       "      <td>1139.0</td>\n",
       "      <td>19.0</td>\n",
       "    </tr>\n",
       "    <tr>\n",
       "      <th>2154</th>\n",
       "      <td>2020-07-22 08:12:42</td>\n",
       "      <td>3000553421824</td>\n",
       "      <td>4</td>\n",
       "      <td>1</td>\n",
       "      <td>1135.0</td>\n",
       "      <td>19.0</td>\n",
       "    </tr>\n",
       "    <tr>\n",
       "      <th>2985</th>\n",
       "      <td>2020-07-22 22:17:27</td>\n",
       "      <td>3000590082486</td>\n",
       "      <td>4</td>\n",
       "      <td>1</td>\n",
       "      <td>1128.0</td>\n",
       "      <td>19.0</td>\n",
       "    </tr>\n",
       "    <tr>\n",
       "      <th>7690</th>\n",
       "      <td>2020-07-22 12:47:51</td>\n",
       "      <td>3000579226411</td>\n",
       "      <td>4</td>\n",
       "      <td>1</td>\n",
       "      <td>1126.0</td>\n",
       "      <td>19.0</td>\n",
       "    </tr>\n",
       "    <tr>\n",
       "      <th>1859</th>\n",
       "      <td>2020-07-22 17:12:24</td>\n",
       "      <td>3000552346517</td>\n",
       "      <td>4</td>\n",
       "      <td>1</td>\n",
       "      <td>1116.0</td>\n",
       "      <td>19.0</td>\n",
       "    </tr>\n",
       "    <tr>\n",
       "      <th>730</th>\n",
       "      <td>2020-07-22 14:34:36</td>\n",
       "      <td>3000585541881</td>\n",
       "      <td>4</td>\n",
       "      <td>1</td>\n",
       "      <td>1116.0</td>\n",
       "      <td>19.0</td>\n",
       "    </tr>\n",
       "  </tbody>\n",
       "</table>\n",
       "</div>"
      ],
      "text/plain": [
       "           order_datetime       order_gk  order_status_key  \\\n",
       "8369  2020-07-22 13:21:20  3000589207012                 4   \n",
       "8473  2020-07-22 06:48:55  3000577775717                 4   \n",
       "6825  2020-07-22 05:13:30  3000630305614                 4   \n",
       "9924  2020-07-22 18:30:46  3000618075800                 4   \n",
       "3956  2020-07-22 14:23:54  3000557285679                 4   \n",
       "5790  2020-07-22 18:11:02  3000627382683                 4   \n",
       "3443  2020-07-22 23:57:50  3000622541727                 4   \n",
       "3505  2020-07-22 01:17:29  3000558186529                 4   \n",
       "3480  2020-07-22 00:42:25  3000585816327                 4   \n",
       "10310 2020-07-22 12:35:39  3000555496022                 4   \n",
       "9362  2020-07-22 18:00:51  3000577401794                 4   \n",
       "10168 2020-07-22 23:19:40  3000590757399                 4   \n",
       "587   2020-07-22 08:45:43  3000584765892                 4   \n",
       "8628  2020-07-22 10:11:32  3000592821720                 4   \n",
       "10230 2020-07-22 03:28:53  3000590256037                 4   \n",
       "10228 2020-07-22 11:25:37  3000590480744                 4   \n",
       "5497  2020-07-22 16:02:17  3000551231376                 4   \n",
       "6051  2020-07-22 17:19:06  3000623018591                 4   \n",
       "8954  2020-07-22 11:23:32  3000557860574                 4   \n",
       "3650  2020-07-22 17:10:54  3000631257053                 4   \n",
       "1318  2020-07-22 06:31:33  3000550355598                 4   \n",
       "3033  2020-07-22 17:37:13  3000624991575                 4   \n",
       "9481  2020-07-22 15:37:37  3000552970803                 4   \n",
       "9592  2020-07-22 16:44:15  3000556246183                 4   \n",
       "3515  2020-07-22 03:14:09  3000617676327                 4   \n",
       "6718  2020-07-22 05:16:59  3000595945870                 4   \n",
       "5485  2020-07-22 18:26:32  3000551281797                 4   \n",
       "8256  2020-07-22 08:50:28  3000584117007                 4   \n",
       "3483  2020-07-22 23:51:58  3000579501641                 4   \n",
       "3688  2020-07-22 12:13:11  3000551131445                 4   \n",
       "4463  2020-07-22 13:57:15  3000594871915                 4   \n",
       "8262  2020-07-22 16:05:16  3000584292378                 4   \n",
       "8113  2020-07-22 00:40:46  3000625166349                 4   \n",
       "9806  2020-07-22 02:15:58  3000593920918                 4   \n",
       "2018  2020-07-22 23:41:46  3000595771143                 4   \n",
       "1350  2020-07-22 17:47:55  3000550631237                 4   \n",
       "2559  2020-07-22 09:23:22  3000579800614                 4   \n",
       "3109  2020-07-22 14:10:30  3000624892423                 4   \n",
       "5525  2020-07-22 19:57:25  3000551331400                 4   \n",
       "1851  2020-07-22 01:30:40  3000551970359                 4   \n",
       "4419  2020-07-22 17:40:11  3000594971272                 4   \n",
       "8263  2020-07-22 02:11:47  3000598910825                 4   \n",
       "7067  2020-07-22 00:10:12  3000590781515                 4   \n",
       "6393  2020-07-22 22:40:42  3000595096553                 4   \n",
       "5438  2020-07-22 03:36:35  3000557010413                 4   \n",
       "2154  2020-07-22 08:12:42  3000553421824                 4   \n",
       "2985  2020-07-22 22:17:27  3000590082486                 4   \n",
       "7690  2020-07-22 12:47:51  3000579226411                 4   \n",
       "1859  2020-07-22 17:12:24  3000552346517                 4   \n",
       "730   2020-07-22 14:34:36  3000585541881                 4   \n",
       "\n",
       "       is_courier_assigned_key  cancellations_time_in_seconds  \\\n",
       "8369                         1                         4303.0   \n",
       "8473                         1                         3697.0   \n",
       "6825                         1                         2680.0   \n",
       "9924                         1                         2376.0   \n",
       "3956                         1                         2190.0   \n",
       "5790                         1                         2155.0   \n",
       "3443                         1                         1885.0   \n",
       "3505                         1                         1873.0   \n",
       "3480                         1                         1785.0   \n",
       "10310                        1                         1774.0   \n",
       "9362                         1                         1769.0   \n",
       "10168                        1                         1744.0   \n",
       "587                          1                         1710.0   \n",
       "8628                         1                         1650.0   \n",
       "10230                        1                         1536.0   \n",
       "10228                        1                         1536.0   \n",
       "5497                         1                         1526.0   \n",
       "6051                         1                         1476.0   \n",
       "8954                         1                         1458.0   \n",
       "3650                         1                         1451.0   \n",
       "1318                         1                         1442.0   \n",
       "3033                         1                         1346.0   \n",
       "9481                         1                         1346.0   \n",
       "9592                         1                         1344.0   \n",
       "3515                         1                         1341.0   \n",
       "6718                         1                         1311.0   \n",
       "5485                         1                         1310.0   \n",
       "8256                         1                         1308.0   \n",
       "3483                         1                         1281.0   \n",
       "3688                         1                         1259.0   \n",
       "4463                         1                         1212.0   \n",
       "8262                         1                         1212.0   \n",
       "8113                         1                         1210.0   \n",
       "9806                         1                         1206.0   \n",
       "2018                         1                         1205.0   \n",
       "1350                         1                         1190.0   \n",
       "2559                         1                         1186.0   \n",
       "3109                         1                         1183.0   \n",
       "5525                         1                         1166.0   \n",
       "1851                         1                         1157.0   \n",
       "4419                         1                         1151.0   \n",
       "8263                         1                         1146.0   \n",
       "7067                         1                         1146.0   \n",
       "6393                         1                         1142.0   \n",
       "5438                         1                         1139.0   \n",
       "2154                         1                         1135.0   \n",
       "2985                         1                         1128.0   \n",
       "7690                         1                         1126.0   \n",
       "1859                         1                         1116.0   \n",
       "730                          1                         1116.0   \n",
       "\n",
       "       cancellations_time_in_minutes  \n",
       "8369                            72.0  \n",
       "8473                            62.0  \n",
       "6825                            45.0  \n",
       "9924                            40.0  \n",
       "3956                            36.0  \n",
       "5790                            36.0  \n",
       "3443                            31.0  \n",
       "3505                            31.0  \n",
       "3480                            30.0  \n",
       "10310                           30.0  \n",
       "9362                            29.0  \n",
       "10168                           29.0  \n",
       "587                             28.0  \n",
       "8628                            28.0  \n",
       "10230                           26.0  \n",
       "10228                           26.0  \n",
       "5497                            25.0  \n",
       "6051                            25.0  \n",
       "8954                            24.0  \n",
       "3650                            24.0  \n",
       "1318                            24.0  \n",
       "3033                            22.0  \n",
       "9481                            22.0  \n",
       "9592                            22.0  \n",
       "3515                            22.0  \n",
       "6718                            22.0  \n",
       "5485                            22.0  \n",
       "8256                            22.0  \n",
       "3483                            21.0  \n",
       "3688                            21.0  \n",
       "4463                            20.0  \n",
       "8262                            20.0  \n",
       "8113                            20.0  \n",
       "9806                            20.0  \n",
       "2018                            20.0  \n",
       "1350                            20.0  \n",
       "2559                            20.0  \n",
       "3109                            20.0  \n",
       "5525                            19.0  \n",
       "1851                            19.0  \n",
       "4419                            19.0  \n",
       "8263                            19.0  \n",
       "7067                            19.0  \n",
       "6393                            19.0  \n",
       "5438                            19.0  \n",
       "2154                            19.0  \n",
       "2985                            19.0  \n",
       "7690                            19.0  \n",
       "1859                            19.0  \n",
       "730                             19.0  "
      ]
     },
     "execution_count": 28,
     "metadata": {},
     "output_type": "execute_result"
    }
   ],
   "source": [
    "df.query('is_courier_assigned_key == \"1\"')\\\n",
    "    .sort_values('cancellations_time_in_seconds', ascending=False)\\\n",
    "    .head(50)"
   ]
  },
  {
   "cell_type": "raw",
   "metadata": {},
   "source": [
    "Гипотеза: Заказы отменяются пользователями, поскольку время ожидания доставки заказа очень велико.\n",
    "\n",
    "Разобьем проблему на две составляющие: \"Почему так может происходить\" и \"как этого избежать в дальнейшем\"?\n",
    "\n",
    "Почему так может происходить:\n",
    "\n",
    "1.Курьер задержался на доставке. Проверить геоданные курьеров (допустим, такие есть), провести разъяснительные работы.\n",
    "\n",
    "2.Курьер назначен из другого района. Проверить геоданные курьеров, оптимизировать распределение курьеров.\n",
    "\n",
    "3.Задержка с выдачей заказа в пункте выдачи. Посмотреть данные по принятию заказа в работу, готовности заказа, времени выдачи заказа.\n",
    "\n",
    "\n",
    "Как этого избежать в дальнейшем:\n",
    "\n",
    "\n",
    "1.Устранить, при наличии, причины из предыдущего пункта.\n",
    "\n",
    "2.Определить время доставки заказа (допустим, 30 минут)\n",
    "\n",
    "3.При превышении этого времени посылать алерт ответственному лицу.\n",
    "\n",
    "4.Мотивировать клиента не отменять заказ (промокод на следующий, доставка за наш счет, заказ за наш счет)\n"
   ]
  },
  {
   "cell_type": "raw",
   "metadata": {},
   "source": [
    "Тпереь посмотрим на заказы, к которым курьер не был назначен:"
   ]
  },
  {
   "cell_type": "code",
   "execution_count": 29,
   "metadata": {
    "scrolled": true
   },
   "outputs": [
    {
     "data": {
      "text/html": [
       "<div>\n",
       "<style scoped>\n",
       "    .dataframe tbody tr th:only-of-type {\n",
       "        vertical-align: middle;\n",
       "    }\n",
       "\n",
       "    .dataframe tbody tr th {\n",
       "        vertical-align: top;\n",
       "    }\n",
       "\n",
       "    .dataframe thead th {\n",
       "        text-align: right;\n",
       "    }\n",
       "</style>\n",
       "<table border=\"1\" class=\"dataframe\">\n",
       "  <thead>\n",
       "    <tr style=\"text-align: right;\">\n",
       "      <th></th>\n",
       "      <th>order_datetime</th>\n",
       "      <th>order_gk</th>\n",
       "      <th>order_status_key</th>\n",
       "      <th>is_courier_assigned_key</th>\n",
       "      <th>cancellations_time_in_seconds</th>\n",
       "      <th>cancellations_time_in_minutes</th>\n",
       "    </tr>\n",
       "  </thead>\n",
       "  <tbody>\n",
       "    <tr>\n",
       "      <th>3442</th>\n",
       "      <td>2020-07-22 23:43:11</td>\n",
       "      <td>3000622541402</td>\n",
       "      <td>4</td>\n",
       "      <td>0</td>\n",
       "      <td>4097.0</td>\n",
       "      <td>68.0</td>\n",
       "    </tr>\n",
       "    <tr>\n",
       "      <th>7025</th>\n",
       "      <td>2020-07-22 16:14:29</td>\n",
       "      <td>3000628632142</td>\n",
       "      <td>4</td>\n",
       "      <td>0</td>\n",
       "      <td>1614.0</td>\n",
       "      <td>27.0</td>\n",
       "    </tr>\n",
       "    <tr>\n",
       "      <th>3478</th>\n",
       "      <td>2020-07-22 20:15:24</td>\n",
       "      <td>3000628732423</td>\n",
       "      <td>4</td>\n",
       "      <td>0</td>\n",
       "      <td>1464.0</td>\n",
       "      <td>24.0</td>\n",
       "    </tr>\n",
       "    <tr>\n",
       "      <th>3466</th>\n",
       "      <td>2020-07-22 06:59:42</td>\n",
       "      <td>3000587755887</td>\n",
       "      <td>4</td>\n",
       "      <td>0</td>\n",
       "      <td>1179.0</td>\n",
       "      <td>20.0</td>\n",
       "    </tr>\n",
       "    <tr>\n",
       "      <th>3631</th>\n",
       "      <td>2020-07-22 22:44:42</td>\n",
       "      <td>3000630756128</td>\n",
       "      <td>4</td>\n",
       "      <td>0</td>\n",
       "      <td>1072.0</td>\n",
       "      <td>18.0</td>\n",
       "    </tr>\n",
       "    <tr>\n",
       "      <th>7424</th>\n",
       "      <td>2020-07-22 16:28:50</td>\n",
       "      <td>3000586241562</td>\n",
       "      <td>4</td>\n",
       "      <td>0</td>\n",
       "      <td>1035.0</td>\n",
       "      <td>17.0</td>\n",
       "    </tr>\n",
       "    <tr>\n",
       "      <th>10240</th>\n",
       "      <td>2020-07-22 23:07:40</td>\n",
       "      <td>3000590756619</td>\n",
       "      <td>4</td>\n",
       "      <td>0</td>\n",
       "      <td>999.0</td>\n",
       "      <td>17.0</td>\n",
       "    </tr>\n",
       "    <tr>\n",
       "      <th>3394</th>\n",
       "      <td>2020-07-22 15:36:08</td>\n",
       "      <td>3000578651191</td>\n",
       "      <td>4</td>\n",
       "      <td>0</td>\n",
       "      <td>930.0</td>\n",
       "      <td>16.0</td>\n",
       "    </tr>\n",
       "    <tr>\n",
       "      <th>2503</th>\n",
       "      <td>2020-07-22 18:41:41</td>\n",
       "      <td>3000590006063</td>\n",
       "      <td>4</td>\n",
       "      <td>0</td>\n",
       "      <td>909.0</td>\n",
       "      <td>15.0</td>\n",
       "    </tr>\n",
       "    <tr>\n",
       "      <th>6939</th>\n",
       "      <td>2020-07-22 17:53:35</td>\n",
       "      <td>3000628681794</td>\n",
       "      <td>4</td>\n",
       "      <td>0</td>\n",
       "      <td>862.0</td>\n",
       "      <td>14.0</td>\n",
       "    </tr>\n",
       "    <tr>\n",
       "      <th>7002</th>\n",
       "      <td>2020-07-22 08:29:40</td>\n",
       "      <td>3000628432941</td>\n",
       "      <td>4</td>\n",
       "      <td>0</td>\n",
       "      <td>848.0</td>\n",
       "      <td>14.0</td>\n",
       "    </tr>\n",
       "    <tr>\n",
       "      <th>10013</th>\n",
       "      <td>2020-07-22 00:15:04</td>\n",
       "      <td>3000617553341</td>\n",
       "      <td>4</td>\n",
       "      <td>0</td>\n",
       "      <td>833.0</td>\n",
       "      <td>14.0</td>\n",
       "    </tr>\n",
       "    <tr>\n",
       "      <th>3485</th>\n",
       "      <td>2020-07-22 21:40:25</td>\n",
       "      <td>3000617501236</td>\n",
       "      <td>4</td>\n",
       "      <td>0</td>\n",
       "      <td>831.0</td>\n",
       "      <td>14.0</td>\n",
       "    </tr>\n",
       "    <tr>\n",
       "      <th>9789</th>\n",
       "      <td>2020-07-22 19:03:41</td>\n",
       "      <td>3000594346795</td>\n",
       "      <td>4</td>\n",
       "      <td>0</td>\n",
       "      <td>825.0</td>\n",
       "      <td>14.0</td>\n",
       "    </tr>\n",
       "    <tr>\n",
       "      <th>9167</th>\n",
       "      <td>2020-07-22 17:12:26</td>\n",
       "      <td>3000629307129</td>\n",
       "      <td>4</td>\n",
       "      <td>0</td>\n",
       "      <td>784.0</td>\n",
       "      <td>13.0</td>\n",
       "    </tr>\n",
       "    <tr>\n",
       "      <th>3942</th>\n",
       "      <td>2020-07-22 14:57:32</td>\n",
       "      <td>3000557286151</td>\n",
       "      <td>4</td>\n",
       "      <td>0</td>\n",
       "      <td>782.0</td>\n",
       "      <td>13.0</td>\n",
       "    </tr>\n",
       "    <tr>\n",
       "      <th>5531</th>\n",
       "      <td>2020-07-22 00:01:23</td>\n",
       "      <td>3000550781381</td>\n",
       "      <td>4</td>\n",
       "      <td>0</td>\n",
       "      <td>770.0</td>\n",
       "      <td>13.0</td>\n",
       "    </tr>\n",
       "    <tr>\n",
       "      <th>2777</th>\n",
       "      <td>2020-07-22 09:27:15</td>\n",
       "      <td>3000579776062</td>\n",
       "      <td>4</td>\n",
       "      <td>0</td>\n",
       "      <td>735.0</td>\n",
       "      <td>12.0</td>\n",
       "    </tr>\n",
       "    <tr>\n",
       "      <th>2813</th>\n",
       "      <td>2020-07-22 15:53:56</td>\n",
       "      <td>3000589281394</td>\n",
       "      <td>4</td>\n",
       "      <td>0</td>\n",
       "      <td>734.0</td>\n",
       "      <td>12.0</td>\n",
       "    </tr>\n",
       "    <tr>\n",
       "      <th>9216</th>\n",
       "      <td>2020-07-22 08:42:24</td>\n",
       "      <td>3000629106212</td>\n",
       "      <td>4</td>\n",
       "      <td>0</td>\n",
       "      <td>729.0</td>\n",
       "      <td>12.0</td>\n",
       "    </tr>\n",
       "    <tr>\n",
       "      <th>3458</th>\n",
       "      <td>2020-07-22 08:33:13</td>\n",
       "      <td>3000623466302</td>\n",
       "      <td>4</td>\n",
       "      <td>0</td>\n",
       "      <td>725.0</td>\n",
       "      <td>12.0</td>\n",
       "    </tr>\n",
       "    <tr>\n",
       "      <th>10403</th>\n",
       "      <td>2020-07-22 23:50:35</td>\n",
       "      <td>3000555771347</td>\n",
       "      <td>4</td>\n",
       "      <td>0</td>\n",
       "      <td>723.0</td>\n",
       "      <td>12.0</td>\n",
       "    </tr>\n",
       "    <tr>\n",
       "      <th>9402</th>\n",
       "      <td>2020-07-22 08:09:22</td>\n",
       "      <td>3000577151817</td>\n",
       "      <td>4</td>\n",
       "      <td>0</td>\n",
       "      <td>717.0</td>\n",
       "      <td>12.0</td>\n",
       "    </tr>\n",
       "    <tr>\n",
       "      <th>8399</th>\n",
       "      <td>2020-07-22 16:30:20</td>\n",
       "      <td>3000578002538</td>\n",
       "      <td>4</td>\n",
       "      <td>0</td>\n",
       "      <td>702.0</td>\n",
       "      <td>12.0</td>\n",
       "    </tr>\n",
       "    <tr>\n",
       "      <th>5227</th>\n",
       "      <td>2020-07-22 12:19:32</td>\n",
       "      <td>3000598511718</td>\n",
       "      <td>4</td>\n",
       "      <td>0</td>\n",
       "      <td>663.0</td>\n",
       "      <td>11.0</td>\n",
       "    </tr>\n",
       "    <tr>\n",
       "      <th>915</th>\n",
       "      <td>2020-07-22 08:16:35</td>\n",
       "      <td>3000623442566</td>\n",
       "      <td>4</td>\n",
       "      <td>0</td>\n",
       "      <td>647.0</td>\n",
       "      <td>11.0</td>\n",
       "    </tr>\n",
       "    <tr>\n",
       "      <th>3420</th>\n",
       "      <td>2020-07-22 09:05:48</td>\n",
       "      <td>3000588458081</td>\n",
       "      <td>4</td>\n",
       "      <td>0</td>\n",
       "      <td>642.0</td>\n",
       "      <td>11.0</td>\n",
       "    </tr>\n",
       "    <tr>\n",
       "      <th>5844</th>\n",
       "      <td>2020-07-22 02:07:51</td>\n",
       "      <td>3000626980446</td>\n",
       "      <td>4</td>\n",
       "      <td>0</td>\n",
       "      <td>640.0</td>\n",
       "      <td>11.0</td>\n",
       "    </tr>\n",
       "    <tr>\n",
       "      <th>4274</th>\n",
       "      <td>2020-07-22 16:59:37</td>\n",
       "      <td>3000628657341</td>\n",
       "      <td>4</td>\n",
       "      <td>0</td>\n",
       "      <td>628.0</td>\n",
       "      <td>10.0</td>\n",
       "    </tr>\n",
       "    <tr>\n",
       "      <th>3477</th>\n",
       "      <td>2020-07-22 22:55:27</td>\n",
       "      <td>3000628807160</td>\n",
       "      <td>4</td>\n",
       "      <td>0</td>\n",
       "      <td>625.0</td>\n",
       "      <td>10.0</td>\n",
       "    </tr>\n",
       "    <tr>\n",
       "      <th>2737</th>\n",
       "      <td>2020-07-22 09:30:32</td>\n",
       "      <td>3000579800686</td>\n",
       "      <td>4</td>\n",
       "      <td>0</td>\n",
       "      <td>618.0</td>\n",
       "      <td>10.0</td>\n",
       "    </tr>\n",
       "    <tr>\n",
       "      <th>945</th>\n",
       "      <td>2020-07-22 15:03:59</td>\n",
       "      <td>3000623616650</td>\n",
       "      <td>4</td>\n",
       "      <td>0</td>\n",
       "      <td>614.0</td>\n",
       "      <td>10.0</td>\n",
       "    </tr>\n",
       "    <tr>\n",
       "      <th>3377</th>\n",
       "      <td>2020-07-22 21:58:17</td>\n",
       "      <td>3000623791886</td>\n",
       "      <td>4</td>\n",
       "      <td>0</td>\n",
       "      <td>607.0</td>\n",
       "      <td>10.0</td>\n",
       "    </tr>\n",
       "    <tr>\n",
       "      <th>10341</th>\n",
       "      <td>2020-07-22 06:30:53</td>\n",
       "      <td>3000555320713</td>\n",
       "      <td>4</td>\n",
       "      <td>0</td>\n",
       "      <td>603.0</td>\n",
       "      <td>10.0</td>\n",
       "    </tr>\n",
       "    <tr>\n",
       "      <th>6612</th>\n",
       "      <td>2020-07-22 03:05:03</td>\n",
       "      <td>3000617025647</td>\n",
       "      <td>4</td>\n",
       "      <td>0</td>\n",
       "      <td>592.0</td>\n",
       "      <td>10.0</td>\n",
       "    </tr>\n",
       "    <tr>\n",
       "      <th>1027</th>\n",
       "      <td>2020-07-22 16:49:08</td>\n",
       "      <td>3000623666457</td>\n",
       "      <td>4</td>\n",
       "      <td>0</td>\n",
       "      <td>592.0</td>\n",
       "      <td>10.0</td>\n",
       "    </tr>\n",
       "    <tr>\n",
       "      <th>3437</th>\n",
       "      <td>2020-07-22 21:16:31</td>\n",
       "      <td>3000599387062</td>\n",
       "      <td>4</td>\n",
       "      <td>0</td>\n",
       "      <td>586.0</td>\n",
       "      <td>10.0</td>\n",
       "    </tr>\n",
       "    <tr>\n",
       "      <th>6285</th>\n",
       "      <td>2020-07-22 23:13:49</td>\n",
       "      <td>3000595097176</td>\n",
       "      <td>4</td>\n",
       "      <td>0</td>\n",
       "      <td>578.0</td>\n",
       "      <td>10.0</td>\n",
       "    </tr>\n",
       "    <tr>\n",
       "      <th>3397</th>\n",
       "      <td>2020-07-22 15:29:59</td>\n",
       "      <td>3000578650919</td>\n",
       "      <td>4</td>\n",
       "      <td>0</td>\n",
       "      <td>577.0</td>\n",
       "      <td>10.0</td>\n",
       "    </tr>\n",
       "    <tr>\n",
       "      <th>6971</th>\n",
       "      <td>2020-07-22 16:32:09</td>\n",
       "      <td>3000628655951</td>\n",
       "      <td>4</td>\n",
       "      <td>0</td>\n",
       "      <td>575.0</td>\n",
       "      <td>10.0</td>\n",
       "    </tr>\n",
       "    <tr>\n",
       "      <th>3690</th>\n",
       "      <td>2020-07-22 21:59:42</td>\n",
       "      <td>3000551381351</td>\n",
       "      <td>4</td>\n",
       "      <td>0</td>\n",
       "      <td>562.0</td>\n",
       "      <td>9.0</td>\n",
       "    </tr>\n",
       "    <tr>\n",
       "      <th>10026</th>\n",
       "      <td>2020-07-22 19:52:35</td>\n",
       "      <td>3000618100995</td>\n",
       "      <td>4</td>\n",
       "      <td>0</td>\n",
       "      <td>557.0</td>\n",
       "      <td>9.0</td>\n",
       "    </tr>\n",
       "    <tr>\n",
       "      <th>690</th>\n",
       "      <td>2020-07-22 13:20:39</td>\n",
       "      <td>3000584867041</td>\n",
       "      <td>4</td>\n",
       "      <td>0</td>\n",
       "      <td>546.0</td>\n",
       "      <td>9.0</td>\n",
       "    </tr>\n",
       "    <tr>\n",
       "      <th>2350</th>\n",
       "      <td>2020-07-22 14:56:01</td>\n",
       "      <td>3000578626420</td>\n",
       "      <td>4</td>\n",
       "      <td>0</td>\n",
       "      <td>540.0</td>\n",
       "      <td>9.0</td>\n",
       "    </tr>\n",
       "    <tr>\n",
       "      <th>203</th>\n",
       "      <td>2020-07-22 08:39:44</td>\n",
       "      <td>3000622816344</td>\n",
       "      <td>4</td>\n",
       "      <td>0</td>\n",
       "      <td>536.0</td>\n",
       "      <td>9.0</td>\n",
       "    </tr>\n",
       "    <tr>\n",
       "      <th>2113</th>\n",
       "      <td>2020-07-22 23:45:33</td>\n",
       "      <td>3000595771587</td>\n",
       "      <td>4</td>\n",
       "      <td>0</td>\n",
       "      <td>522.0</td>\n",
       "      <td>9.0</td>\n",
       "    </tr>\n",
       "    <tr>\n",
       "      <th>9112</th>\n",
       "      <td>2020-07-22 17:19:13</td>\n",
       "      <td>3000622367227</td>\n",
       "      <td>4</td>\n",
       "      <td>0</td>\n",
       "      <td>514.0</td>\n",
       "      <td>9.0</td>\n",
       "    </tr>\n",
       "    <tr>\n",
       "      <th>7473</th>\n",
       "      <td>2020-07-22 21:12:44</td>\n",
       "      <td>3000587456731</td>\n",
       "      <td>4</td>\n",
       "      <td>0</td>\n",
       "      <td>506.0</td>\n",
       "      <td>8.0</td>\n",
       "    </tr>\n",
       "    <tr>\n",
       "      <th>8575</th>\n",
       "      <td>2020-07-22 19:24:55</td>\n",
       "      <td>3000593047382</td>\n",
       "      <td>4</td>\n",
       "      <td>0</td>\n",
       "      <td>503.0</td>\n",
       "      <td>8.0</td>\n",
       "    </tr>\n",
       "    <tr>\n",
       "      <th>6369</th>\n",
       "      <td>2020-07-22 02:54:01</td>\n",
       "      <td>3000594595719</td>\n",
       "      <td>4</td>\n",
       "      <td>0</td>\n",
       "      <td>500.0</td>\n",
       "      <td>8.0</td>\n",
       "    </tr>\n",
       "  </tbody>\n",
       "</table>\n",
       "</div>"
      ],
      "text/plain": [
       "           order_datetime       order_gk  order_status_key  \\\n",
       "3442  2020-07-22 23:43:11  3000622541402                 4   \n",
       "7025  2020-07-22 16:14:29  3000628632142                 4   \n",
       "3478  2020-07-22 20:15:24  3000628732423                 4   \n",
       "3466  2020-07-22 06:59:42  3000587755887                 4   \n",
       "3631  2020-07-22 22:44:42  3000630756128                 4   \n",
       "7424  2020-07-22 16:28:50  3000586241562                 4   \n",
       "10240 2020-07-22 23:07:40  3000590756619                 4   \n",
       "3394  2020-07-22 15:36:08  3000578651191                 4   \n",
       "2503  2020-07-22 18:41:41  3000590006063                 4   \n",
       "6939  2020-07-22 17:53:35  3000628681794                 4   \n",
       "7002  2020-07-22 08:29:40  3000628432941                 4   \n",
       "10013 2020-07-22 00:15:04  3000617553341                 4   \n",
       "3485  2020-07-22 21:40:25  3000617501236                 4   \n",
       "9789  2020-07-22 19:03:41  3000594346795                 4   \n",
       "9167  2020-07-22 17:12:26  3000629307129                 4   \n",
       "3942  2020-07-22 14:57:32  3000557286151                 4   \n",
       "5531  2020-07-22 00:01:23  3000550781381                 4   \n",
       "2777  2020-07-22 09:27:15  3000579776062                 4   \n",
       "2813  2020-07-22 15:53:56  3000589281394                 4   \n",
       "9216  2020-07-22 08:42:24  3000629106212                 4   \n",
       "3458  2020-07-22 08:33:13  3000623466302                 4   \n",
       "10403 2020-07-22 23:50:35  3000555771347                 4   \n",
       "9402  2020-07-22 08:09:22  3000577151817                 4   \n",
       "8399  2020-07-22 16:30:20  3000578002538                 4   \n",
       "5227  2020-07-22 12:19:32  3000598511718                 4   \n",
       "915   2020-07-22 08:16:35  3000623442566                 4   \n",
       "3420  2020-07-22 09:05:48  3000588458081                 4   \n",
       "5844  2020-07-22 02:07:51  3000626980446                 4   \n",
       "4274  2020-07-22 16:59:37  3000628657341                 4   \n",
       "3477  2020-07-22 22:55:27  3000628807160                 4   \n",
       "2737  2020-07-22 09:30:32  3000579800686                 4   \n",
       "945   2020-07-22 15:03:59  3000623616650                 4   \n",
       "3377  2020-07-22 21:58:17  3000623791886                 4   \n",
       "10341 2020-07-22 06:30:53  3000555320713                 4   \n",
       "6612  2020-07-22 03:05:03  3000617025647                 4   \n",
       "1027  2020-07-22 16:49:08  3000623666457                 4   \n",
       "3437  2020-07-22 21:16:31  3000599387062                 4   \n",
       "6285  2020-07-22 23:13:49  3000595097176                 4   \n",
       "3397  2020-07-22 15:29:59  3000578650919                 4   \n",
       "6971  2020-07-22 16:32:09  3000628655951                 4   \n",
       "3690  2020-07-22 21:59:42  3000551381351                 4   \n",
       "10026 2020-07-22 19:52:35  3000618100995                 4   \n",
       "690   2020-07-22 13:20:39  3000584867041                 4   \n",
       "2350  2020-07-22 14:56:01  3000578626420                 4   \n",
       "203   2020-07-22 08:39:44  3000622816344                 4   \n",
       "2113  2020-07-22 23:45:33  3000595771587                 4   \n",
       "9112  2020-07-22 17:19:13  3000622367227                 4   \n",
       "7473  2020-07-22 21:12:44  3000587456731                 4   \n",
       "8575  2020-07-22 19:24:55  3000593047382                 4   \n",
       "6369  2020-07-22 02:54:01  3000594595719                 4   \n",
       "\n",
       "       is_courier_assigned_key  cancellations_time_in_seconds  \\\n",
       "3442                         0                         4097.0   \n",
       "7025                         0                         1614.0   \n",
       "3478                         0                         1464.0   \n",
       "3466                         0                         1179.0   \n",
       "3631                         0                         1072.0   \n",
       "7424                         0                         1035.0   \n",
       "10240                        0                          999.0   \n",
       "3394                         0                          930.0   \n",
       "2503                         0                          909.0   \n",
       "6939                         0                          862.0   \n",
       "7002                         0                          848.0   \n",
       "10013                        0                          833.0   \n",
       "3485                         0                          831.0   \n",
       "9789                         0                          825.0   \n",
       "9167                         0                          784.0   \n",
       "3942                         0                          782.0   \n",
       "5531                         0                          770.0   \n",
       "2777                         0                          735.0   \n",
       "2813                         0                          734.0   \n",
       "9216                         0                          729.0   \n",
       "3458                         0                          725.0   \n",
       "10403                        0                          723.0   \n",
       "9402                         0                          717.0   \n",
       "8399                         0                          702.0   \n",
       "5227                         0                          663.0   \n",
       "915                          0                          647.0   \n",
       "3420                         0                          642.0   \n",
       "5844                         0                          640.0   \n",
       "4274                         0                          628.0   \n",
       "3477                         0                          625.0   \n",
       "2737                         0                          618.0   \n",
       "945                          0                          614.0   \n",
       "3377                         0                          607.0   \n",
       "10341                        0                          603.0   \n",
       "6612                         0                          592.0   \n",
       "1027                         0                          592.0   \n",
       "3437                         0                          586.0   \n",
       "6285                         0                          578.0   \n",
       "3397                         0                          577.0   \n",
       "6971                         0                          575.0   \n",
       "3690                         0                          562.0   \n",
       "10026                        0                          557.0   \n",
       "690                          0                          546.0   \n",
       "2350                         0                          540.0   \n",
       "203                          0                          536.0   \n",
       "2113                         0                          522.0   \n",
       "9112                         0                          514.0   \n",
       "7473                         0                          506.0   \n",
       "8575                         0                          503.0   \n",
       "6369                         0                          500.0   \n",
       "\n",
       "       cancellations_time_in_minutes  \n",
       "3442                            68.0  \n",
       "7025                            27.0  \n",
       "3478                            24.0  \n",
       "3466                            20.0  \n",
       "3631                            18.0  \n",
       "7424                            17.0  \n",
       "10240                           17.0  \n",
       "3394                            16.0  \n",
       "2503                            15.0  \n",
       "6939                            14.0  \n",
       "7002                            14.0  \n",
       "10013                           14.0  \n",
       "3485                            14.0  \n",
       "9789                            14.0  \n",
       "9167                            13.0  \n",
       "3942                            13.0  \n",
       "5531                            13.0  \n",
       "2777                            12.0  \n",
       "2813                            12.0  \n",
       "9216                            12.0  \n",
       "3458                            12.0  \n",
       "10403                           12.0  \n",
       "9402                            12.0  \n",
       "8399                            12.0  \n",
       "5227                            11.0  \n",
       "915                             11.0  \n",
       "3420                            11.0  \n",
       "5844                            11.0  \n",
       "4274                            10.0  \n",
       "3477                            10.0  \n",
       "2737                            10.0  \n",
       "945                             10.0  \n",
       "3377                            10.0  \n",
       "10341                           10.0  \n",
       "6612                            10.0  \n",
       "1027                            10.0  \n",
       "3437                            10.0  \n",
       "6285                            10.0  \n",
       "3397                            10.0  \n",
       "6971                            10.0  \n",
       "3690                             9.0  \n",
       "10026                            9.0  \n",
       "690                              9.0  \n",
       "2350                             9.0  \n",
       "203                              9.0  \n",
       "2113                             9.0  \n",
       "9112                             9.0  \n",
       "7473                             8.0  \n",
       "8575                             8.0  \n",
       "6369                             8.0  "
      ]
     },
     "execution_count": 29,
     "metadata": {},
     "output_type": "execute_result"
    }
   ],
   "source": [
    "df.query('is_courier_assigned_key == \"0\"')\\\n",
    "    .sort_values('cancellations_time_in_seconds', ascending=False)\\\n",
    "    .head(50)"
   ]
  },
  {
   "cell_type": "raw",
   "metadata": {},
   "source": [
    "Гипотеза: клиент отменяет заказ если видит, что на его заказ не назначен курьер.\n",
    "\n",
    "Почему так может происходить:\n",
    "\n",
    "1.Нет свободных курьеров поблизости\n",
    "2.Вознаграждение курьера слишком мало\n",
    "\n",
    "Как этого избежать в дальнейшем:\n",
    "\n",
    "1.Продумать как мотивировать курьеров перемещаться в области с повышенным спросом (яндек такси для таксистов)\n",
    "2.Продумать прогресивную шкалу поощрения курьеров, при наличии пересмотреть.\n",
    "\n",
    "\n",
    "Еще ону причину рассмотрим в следующем пункте:"
   ]
  },
  {
   "cell_type": "markdown",
   "metadata": {},
   "source": [
    "**1.** Для всех ли заказов нашлись офферы курьерам?"
   ]
  },
  {
   "cell_type": "code",
   "execution_count": 30,
   "metadata": {},
   "outputs": [],
   "source": [
    "df = df_orders.merge(df_offers, how='left', on='order_gk') #объединяем датафреймы\n"
   ]
  },
  {
   "cell_type": "raw",
   "metadata": {},
   "source": [
    "Проверим правильность объединения таблиц, сравнив количество уникальных значений по полям в таблице df_orders и в получившемся датафрейме:"
   ]
  },
  {
   "cell_type": "code",
   "execution_count": 31,
   "metadata": {},
   "outputs": [
    {
     "data": {
      "text/plain": [
       "order_datetime                    9921\n",
       "order_gk                         10716\n",
       "order_status_key                     2\n",
       "is_courier_assigned_key              2\n",
       "cancellations_time_in_seconds      772\n",
       "dtype: int64"
      ]
     },
     "execution_count": 31,
     "metadata": {},
     "output_type": "execute_result"
    }
   ],
   "source": [
    "df_orders.nunique() "
   ]
  },
  {
   "cell_type": "code",
   "execution_count": 32,
   "metadata": {},
   "outputs": [
    {
     "data": {
      "text/plain": [
       "(10716, 5)"
      ]
     },
     "execution_count": 32,
     "metadata": {},
     "output_type": "execute_result"
    }
   ],
   "source": [
    "df_orders.shape"
   ]
  },
  {
   "cell_type": "code",
   "execution_count": 33,
   "metadata": {},
   "outputs": [
    {
     "data": {
      "text/plain": [
       "order_datetime                    9921\n",
       "order_gk                         10716\n",
       "order_status_key                     2\n",
       "is_courier_assigned_key              2\n",
       "cancellations_time_in_seconds      772\n",
       "offer_id                         31268\n",
       "dtype: int64"
      ]
     },
     "execution_count": 33,
     "metadata": {},
     "output_type": "execute_result"
    }
   ],
   "source": [
    "df.nunique()"
   ]
  },
  {
   "cell_type": "code",
   "execution_count": 34,
   "metadata": {},
   "outputs": [
    {
     "data": {
      "text/plain": [
       "(34374, 6)"
      ]
     },
     "execution_count": 34,
     "metadata": {},
     "output_type": "execute_result"
    }
   ],
   "source": [
    "df.shape"
   ]
  },
  {
   "cell_type": "raw",
   "metadata": {},
   "source": [
    "При работе с получившимся датафреймом обнаружился интересный момент: Есть заказы на которые назначен курьер, но нет оффера. Посмотрим отдельно на такие заказы:"
   ]
  },
  {
   "cell_type": "code",
   "execution_count": 35,
   "metadata": {},
   "outputs": [
    {
     "data": {
      "text/html": [
       "<div>\n",
       "<style scoped>\n",
       "    .dataframe tbody tr th:only-of-type {\n",
       "        vertical-align: middle;\n",
       "    }\n",
       "\n",
       "    .dataframe tbody tr th {\n",
       "        vertical-align: top;\n",
       "    }\n",
       "\n",
       "    .dataframe thead th {\n",
       "        text-align: right;\n",
       "    }\n",
       "</style>\n",
       "<table border=\"1\" class=\"dataframe\">\n",
       "  <thead>\n",
       "    <tr style=\"text-align: right;\">\n",
       "      <th></th>\n",
       "      <th>order_datetime</th>\n",
       "      <th>order_gk</th>\n",
       "      <th>order_status_key</th>\n",
       "      <th>is_courier_assigned_key</th>\n",
       "      <th>cancellations_time_in_seconds</th>\n",
       "      <th>offer_id</th>\n",
       "    </tr>\n",
       "  </thead>\n",
       "  <tbody>\n",
       "    <tr>\n",
       "      <th>22229</th>\n",
       "      <td>2020-07-22 05:13:30</td>\n",
       "      <td>3000630305614</td>\n",
       "      <td>4</td>\n",
       "      <td>1</td>\n",
       "      <td>2680.0</td>\n",
       "      <td>NaN</td>\n",
       "    </tr>\n",
       "    <tr>\n",
       "      <th>18601</th>\n",
       "      <td>2020-07-22 18:11:02</td>\n",
       "      <td>3000627382683</td>\n",
       "      <td>4</td>\n",
       "      <td>1</td>\n",
       "      <td>2155.0</td>\n",
       "      <td>NaN</td>\n",
       "    </tr>\n",
       "    <tr>\n",
       "      <th>33179</th>\n",
       "      <td>2020-07-22 12:35:39</td>\n",
       "      <td>3000555496022</td>\n",
       "      <td>4</td>\n",
       "      <td>1</td>\n",
       "      <td>1774.0</td>\n",
       "      <td>NaN</td>\n",
       "    </tr>\n",
       "    <tr>\n",
       "      <th>32755</th>\n",
       "      <td>2020-07-22 23:19:40</td>\n",
       "      <td>3000590757399</td>\n",
       "      <td>4</td>\n",
       "      <td>1</td>\n",
       "      <td>1744.0</td>\n",
       "      <td>NaN</td>\n",
       "    </tr>\n",
       "    <tr>\n",
       "      <th>1927</th>\n",
       "      <td>2020-07-22 08:45:43</td>\n",
       "      <td>3000584765892</td>\n",
       "      <td>4</td>\n",
       "      <td>1</td>\n",
       "      <td>1710.0</td>\n",
       "      <td>NaN</td>\n",
       "    </tr>\n",
       "    <tr>\n",
       "      <th>...</th>\n",
       "      <td>...</td>\n",
       "      <td>...</td>\n",
       "      <td>...</td>\n",
       "      <td>...</td>\n",
       "      <td>...</td>\n",
       "      <td>...</td>\n",
       "    </tr>\n",
       "    <tr>\n",
       "      <th>17662</th>\n",
       "      <td>2020-07-22 17:38:36</td>\n",
       "      <td>3000551281189</td>\n",
       "      <td>4</td>\n",
       "      <td>1</td>\n",
       "      <td>20.0</td>\n",
       "      <td>NaN</td>\n",
       "    </tr>\n",
       "    <tr>\n",
       "      <th>17637</th>\n",
       "      <td>2020-07-22 17:21:28</td>\n",
       "      <td>3000551256671</td>\n",
       "      <td>4</td>\n",
       "      <td>1</td>\n",
       "      <td>20.0</td>\n",
       "      <td>NaN</td>\n",
       "    </tr>\n",
       "    <tr>\n",
       "      <th>4374</th>\n",
       "      <td>2020-07-22 19:28:16</td>\n",
       "      <td>3000550681041</td>\n",
       "      <td>4</td>\n",
       "      <td>1</td>\n",
       "      <td>17.0</td>\n",
       "      <td>NaN</td>\n",
       "    </tr>\n",
       "    <tr>\n",
       "      <th>11284</th>\n",
       "      <td>2020-07-22 13:02:06</td>\n",
       "      <td>3000550506352</td>\n",
       "      <td>4</td>\n",
       "      <td>1</td>\n",
       "      <td>15.0</td>\n",
       "      <td>NaN</td>\n",
       "    </tr>\n",
       "    <tr>\n",
       "      <th>3965</th>\n",
       "      <td>2020-07-22 16:49:55</td>\n",
       "      <td>3000631256425</td>\n",
       "      <td>9</td>\n",
       "      <td>1</td>\n",
       "      <td>NaN</td>\n",
       "      <td>NaN</td>\n",
       "    </tr>\n",
       "  </tbody>\n",
       "</table>\n",
       "<p>474 rows × 6 columns</p>\n",
       "</div>"
      ],
      "text/plain": [
       "           order_datetime       order_gk  order_status_key  \\\n",
       "22229 2020-07-22 05:13:30  3000630305614                 4   \n",
       "18601 2020-07-22 18:11:02  3000627382683                 4   \n",
       "33179 2020-07-22 12:35:39  3000555496022                 4   \n",
       "32755 2020-07-22 23:19:40  3000590757399                 4   \n",
       "1927  2020-07-22 08:45:43  3000584765892                 4   \n",
       "...                   ...            ...               ...   \n",
       "17662 2020-07-22 17:38:36  3000551281189                 4   \n",
       "17637 2020-07-22 17:21:28  3000551256671                 4   \n",
       "4374  2020-07-22 19:28:16  3000550681041                 4   \n",
       "11284 2020-07-22 13:02:06  3000550506352                 4   \n",
       "3965  2020-07-22 16:49:55  3000631256425                 9   \n",
       "\n",
       "       is_courier_assigned_key  cancellations_time_in_seconds  offer_id  \n",
       "22229                        1                         2680.0       NaN  \n",
       "18601                        1                         2155.0       NaN  \n",
       "33179                        1                         1774.0       NaN  \n",
       "32755                        1                         1744.0       NaN  \n",
       "1927                         1                         1710.0       NaN  \n",
       "...                        ...                            ...       ...  \n",
       "17662                        1                           20.0       NaN  \n",
       "17637                        1                           20.0       NaN  \n",
       "4374                         1                           17.0       NaN  \n",
       "11284                        1                           15.0       NaN  \n",
       "3965                         1                            NaN       NaN  \n",
       "\n",
       "[474 rows x 6 columns]"
      ]
     },
     "execution_count": 35,
     "metadata": {},
     "output_type": "execute_result"
    }
   ],
   "source": [
    "df.query('is_courier_assigned_key == \"1\" and offer_id == \"NaN\"')\\\n",
    "    .sort_values('cancellations_time_in_seconds', ascending = False)"
   ]
  },
  {
   "cell_type": "raw",
   "metadata": {},
   "source": [
    "Гипотеза 1\n",
    "\n",
    "Возможно, есть часть курьеров, которые получают заказ напрямую, минуя офферы. Если это так, то необходимо добавить отображение данных о таких курьерах в таблице."
   ]
  },
  {
   "cell_type": "raw",
   "metadata": {},
   "source": [
    "Гипотеза 2\n",
    "Сбой в работе системы. Заказу присваивается статус is_courier_assigned_key == 1, система считает что заказ ужке взят и не предлагает офферы курьерам. Соответственно, заказ не доставляется. \n",
    "Необходимо проверить данный факт, обратившись к ответственному за данный процесс лицу."
   ]
  },
  {
   "cell_type": "markdown",
   "metadata": {},
   "source": [
    "Продолжим отвечать на вопрос \"Для всех ли заказов нашлись офферы курьерам?\", исключив записи где is_courier_assigned_key == 1"
   ]
  },
  {
   "cell_type": "code",
   "execution_count": 36,
   "metadata": {},
   "outputs": [
    {
     "data": {
      "text/html": [
       "<div>\n",
       "<style scoped>\n",
       "    .dataframe tbody tr th:only-of-type {\n",
       "        vertical-align: middle;\n",
       "    }\n",
       "\n",
       "    .dataframe tbody tr th {\n",
       "        vertical-align: top;\n",
       "    }\n",
       "\n",
       "    .dataframe thead th {\n",
       "        text-align: right;\n",
       "    }\n",
       "</style>\n",
       "<table border=\"1\" class=\"dataframe\">\n",
       "  <thead>\n",
       "    <tr style=\"text-align: right;\">\n",
       "      <th></th>\n",
       "      <th>order_datetime</th>\n",
       "      <th>order_gk</th>\n",
       "      <th>order_status_key</th>\n",
       "      <th>is_courier_assigned_key</th>\n",
       "      <th>cancellations_time_in_seconds</th>\n",
       "      <th>offer_id</th>\n",
       "    </tr>\n",
       "  </thead>\n",
       "  <tbody>\n",
       "    <tr>\n",
       "      <th>13</th>\n",
       "      <td>2020-07-22 21:24:45</td>\n",
       "      <td>3000583140877</td>\n",
       "      <td>9</td>\n",
       "      <td>0</td>\n",
       "      <td>NaN</td>\n",
       "      <td>NaN</td>\n",
       "    </tr>\n",
       "    <tr>\n",
       "      <th>29</th>\n",
       "      <td>2020-07-22 07:53:46</td>\n",
       "      <td>3000582791562</td>\n",
       "      <td>9</td>\n",
       "      <td>0</td>\n",
       "      <td>NaN</td>\n",
       "      <td>NaN</td>\n",
       "    </tr>\n",
       "    <tr>\n",
       "      <th>53</th>\n",
       "      <td>2020-07-22 00:04:16</td>\n",
       "      <td>3000582541301</td>\n",
       "      <td>9</td>\n",
       "      <td>0</td>\n",
       "      <td>NaN</td>\n",
       "      <td>NaN</td>\n",
       "    </tr>\n",
       "    <tr>\n",
       "      <th>69</th>\n",
       "      <td>2020-07-22 08:49:02</td>\n",
       "      <td>3000582817399</td>\n",
       "      <td>9</td>\n",
       "      <td>0</td>\n",
       "      <td>NaN</td>\n",
       "      <td>NaN</td>\n",
       "    </tr>\n",
       "    <tr>\n",
       "      <th>86</th>\n",
       "      <td>2020-07-22 14:08:23</td>\n",
       "      <td>3000632271478</td>\n",
       "      <td>4</td>\n",
       "      <td>0</td>\n",
       "      <td>117.0</td>\n",
       "      <td>NaN</td>\n",
       "    </tr>\n",
       "    <tr>\n",
       "      <th>...</th>\n",
       "      <td>...</td>\n",
       "      <td>...</td>\n",
       "      <td>...</td>\n",
       "      <td>...</td>\n",
       "      <td>...</td>\n",
       "      <td>...</td>\n",
       "    </tr>\n",
       "    <tr>\n",
       "      <th>34363</th>\n",
       "      <td>2020-07-22 13:18:03</td>\n",
       "      <td>3000599187042</td>\n",
       "      <td>4</td>\n",
       "      <td>0</td>\n",
       "      <td>10.0</td>\n",
       "      <td>NaN</td>\n",
       "    </tr>\n",
       "    <tr>\n",
       "      <th>34364</th>\n",
       "      <td>2020-07-22 13:14:50</td>\n",
       "      <td>3000599186984</td>\n",
       "      <td>4</td>\n",
       "      <td>0</td>\n",
       "      <td>19.0</td>\n",
       "      <td>NaN</td>\n",
       "    </tr>\n",
       "    <tr>\n",
       "      <th>34366</th>\n",
       "      <td>2020-07-22 12:45:23</td>\n",
       "      <td>3000597886178</td>\n",
       "      <td>4</td>\n",
       "      <td>0</td>\n",
       "      <td>23.0</td>\n",
       "      <td>NaN</td>\n",
       "    </tr>\n",
       "    <tr>\n",
       "      <th>34370</th>\n",
       "      <td>2020-07-22 13:13:55</td>\n",
       "      <td>3000599186962</td>\n",
       "      <td>4</td>\n",
       "      <td>0</td>\n",
       "      <td>4.0</td>\n",
       "      <td>NaN</td>\n",
       "    </tr>\n",
       "    <tr>\n",
       "      <th>34372</th>\n",
       "      <td>2020-07-22 13:16:28</td>\n",
       "      <td>3000599187024</td>\n",
       "      <td>4</td>\n",
       "      <td>0</td>\n",
       "      <td>6.0</td>\n",
       "      <td>NaN</td>\n",
       "    </tr>\n",
       "  </tbody>\n",
       "</table>\n",
       "<p>2632 rows × 6 columns</p>\n",
       "</div>"
      ],
      "text/plain": [
       "           order_datetime       order_gk  order_status_key  \\\n",
       "13    2020-07-22 21:24:45  3000583140877                 9   \n",
       "29    2020-07-22 07:53:46  3000582791562                 9   \n",
       "53    2020-07-22 00:04:16  3000582541301                 9   \n",
       "69    2020-07-22 08:49:02  3000582817399                 9   \n",
       "86    2020-07-22 14:08:23  3000632271478                 4   \n",
       "...                   ...            ...               ...   \n",
       "34363 2020-07-22 13:18:03  3000599187042                 4   \n",
       "34364 2020-07-22 13:14:50  3000599186984                 4   \n",
       "34366 2020-07-22 12:45:23  3000597886178                 4   \n",
       "34370 2020-07-22 13:13:55  3000599186962                 4   \n",
       "34372 2020-07-22 13:16:28  3000599187024                 4   \n",
       "\n",
       "       is_courier_assigned_key  cancellations_time_in_seconds  offer_id  \n",
       "13                           0                            NaN       NaN  \n",
       "29                           0                            NaN       NaN  \n",
       "53                           0                            NaN       NaN  \n",
       "69                           0                            NaN       NaN  \n",
       "86                           0                          117.0       NaN  \n",
       "...                        ...                            ...       ...  \n",
       "34363                        0                           10.0       NaN  \n",
       "34364                        0                           19.0       NaN  \n",
       "34366                        0                           23.0       NaN  \n",
       "34370                        0                            4.0       NaN  \n",
       "34372                        0                            6.0       NaN  \n",
       "\n",
       "[2632 rows x 6 columns]"
      ]
     },
     "execution_count": 36,
     "metadata": {},
     "output_type": "execute_result"
    }
   ],
   "source": [
    "df.query('is_courier_assigned_key != \"1\" and offer_id == \"NaN\"')"
   ]
  },
  {
   "cell_type": "raw",
   "metadata": {},
   "source": [
    "Гипотеза\n",
    "Сбой в работе системы. Не на все заказы система предлагает офферы курьерам. Необходимо проверить данный факт, обратившись к ответственному за данный процесс лицу."
   ]
  },
  {
   "cell_type": "markdown",
   "metadata": {},
   "source": [
    "**2.** Если нашлись такие заказы, на которых не назначены курьеры, то чего больше - отмен клиентом или реджектов системы?"
   ]
  },
  {
   "cell_type": "code",
   "execution_count": 37,
   "metadata": {},
   "outputs": [
    {
     "data": {
      "text/plain": [
       "4496"
      ]
     },
     "execution_count": 37,
     "metadata": {},
     "output_type": "execute_result"
    }
   ],
   "source": [
    "df_orders.query('is_courier_assigned_key != \"1\" and order_status_key == \"4\"').shape[0] #Отмены клиентом"
   ]
  },
  {
   "cell_type": "code",
   "execution_count": 38,
   "metadata": {},
   "outputs": [
    {
     "data": {
      "text/plain": [
       "3406"
      ]
     },
     "execution_count": 38,
     "metadata": {},
     "output_type": "execute_result"
    }
   ],
   "source": [
    "df_orders.query('is_courier_assigned_key != \"1\" and order_status_key == \"9\"').shape[0] #Отмены системой"
   ]
  },
  {
   "cell_type": "raw",
   "metadata": {},
   "source": [
    "К сожалению, не могу предложить ни одной гипотезы."
   ]
  },
  {
   "cell_type": "markdown",
   "metadata": {},
   "source": [
    "**3.** Какова доля заказов с назначенным курьером среди заказов, отмененных системой?"
   ]
  },
  {
   "cell_type": "code",
   "execution_count": 39,
   "metadata": {},
   "outputs": [
    {
     "data": {
      "text/plain": [
       "3409"
      ]
     },
     "execution_count": 39,
     "metadata": {},
     "output_type": "execute_result"
    }
   ],
   "source": [
    "df_orders.query(\"order_status_key == '9'\").shape[0]"
   ]
  },
  {
   "cell_type": "code",
   "execution_count": 40,
   "metadata": {},
   "outputs": [
    {
     "data": {
      "text/plain": [
       "3"
      ]
     },
     "execution_count": 40,
     "metadata": {},
     "output_type": "execute_result"
    }
   ],
   "source": [
    "df_orders.query(\"order_status_key == '9' and is_courier_assigned_key  == '1'\").shape[0]"
   ]
  },
  {
   "cell_type": "code",
   "execution_count": 41,
   "metadata": {},
   "outputs": [
    {
     "data": {
      "text/plain": [
       "0.09"
      ]
     },
     "execution_count": 41,
     "metadata": {},
     "output_type": "execute_result"
    }
   ],
   "source": [
    "round((df_orders.query(\"order_status_key == '9' and is_courier_assigned_key  == '1'\").shape[0]\\\n",
    "    /df_orders.query(\"order_status_key == '9'\").shape[0])*100, 2)"
   ]
  },
  {
   "cell_type": "raw",
   "metadata": {},
   "source": [
    "Гипотеза 1\n",
    "Система отменяет заказ и не предлагает офферы курьерам по каки-либо причнам еще до этапа доставки.\n",
    "Например: товара может не быть в наличии, товар есть в наличии, но он бракован, товар в наличии, но зарезервирован итд.\n",
    "\n",
    "В таком случае доля назначенных курьеров в 0,09% является погрешностью, ошибкой в работе системы.\n"
   ]
  },
  {
   "cell_type": "markdown",
   "metadata": {},
   "source": [
    "**4**. Получите среднее времени до отмены (cancellations_time_in_seconds) с назначенным курьером и без, по часам.  Можно ли сделать выводы по полученной таблице?\n",
    "Если необходимо - постройте график"
   ]
  },
  {
   "cell_type": "code",
   "execution_count": 42,
   "metadata": {},
   "outputs": [],
   "source": [
    "df_orders['hour'] = df_orders.order_datetime.dt.hour"
   ]
  },
  {
   "cell_type": "code",
   "execution_count": 43,
   "metadata": {},
   "outputs": [],
   "source": [
    "mean_no_courier = df_orders.query('is_courier_assigned_key == \"0\"')\\\n",
    "    .groupby('hour', as_index=False)\\\n",
    "    .agg({'cancellations_time_in_seconds': 'mean'})\\\n",
    "    .rename(columns={\"cancellations_time_in_seconds\": \"no_courier\"})"
   ]
  },
  {
   "cell_type": "code",
   "execution_count": 44,
   "metadata": {},
   "outputs": [],
   "source": [
    "mean_yes_courier = df_orders.query('is_courier_assigned_key == \"1\"')\\\n",
    "    .groupby('hour', as_index=False)\\\n",
    "    .agg({'cancellations_time_in_seconds': 'mean'})\\\n",
    "    .rename(columns={\"cancellations_time_in_seconds\": \"yes_courier\"})"
   ]
  },
  {
   "cell_type": "code",
   "execution_count": 45,
   "metadata": {},
   "outputs": [],
   "source": [
    "mean_time = mean_no_courier.merge(mean_yes_courier, how='left', on='hour')\n",
    "mean_time = mean_time.set_index('hour')\n"
   ]
  },
  {
   "cell_type": "code",
   "execution_count": 46,
   "metadata": {},
   "outputs": [
    {
     "data": {
      "text/plain": [
       "<matplotlib.axes._subplots.AxesSubplot at 0x7f4cbf58f4e0>"
      ]
     },
     "execution_count": 46,
     "metadata": {},
     "output_type": "execute_result"
    },
    {
     "data": {
      "image/png": "[encoded data removed]",
      "text/plain": [
       "<Figure size 1440x576 with 1 Axes>"
      ]
     },
     "metadata": {
      "needs_background": "light"
     },
     "output_type": "display_data"
    }
   ],
   "source": [
    "plt.figure(figsize=(20, 8))\n",
    "sns.lineplot(data=mean_time)"
   ]
  },
  {
   "cell_type": "code",
   "execution_count": 47,
   "metadata": {},
   "outputs": [],
   "source": [
    "mean_no_courier.set_index('hour', inplace=True)\n",
    "mean_yes_courier.set_index('hour', inplace=True)"
   ]
  },
  {
   "cell_type": "code",
   "execution_count": 48,
   "metadata": {},
   "outputs": [
    {
     "data": {
      "text/plain": [
       "<matplotlib.axes._subplots.AxesSubplot at 0x7f4cbf457dd8>"
      ]
     },
     "execution_count": 48,
     "metadata": {},
     "output_type": "execute_result"
    },
    {
     "data": {
      "image/png": "[encoded data removed]",
      "text/plain": [
       "<Figure size 432x288 with 2 Axes>"
      ]
     },
     "metadata": {
      "needs_background": "light"
     },
     "output_type": "display_data"
    }
   ],
   "source": [
    "sns.heatmap(mean_no_courier)\n"
   ]
  },
  {
   "cell_type": "code",
   "execution_count": 49,
   "metadata": {},
   "outputs": [
    {
     "data": {
      "text/plain": [
       "<matplotlib.axes._subplots.AxesSubplot at 0x7f4cbee28080>"
      ]
     },
     "execution_count": 49,
     "metadata": {},
     "output_type": "execute_result"
    },
    {
     "data": {
      "image/png": "[encoded data removed]",
      "text/plain": [
       "<Figure size 432x288 with 2 Axes>"
      ]
     },
     "metadata": {
      "needs_background": "light"
     },
     "output_type": "display_data"
    }
   ],
   "source": [
    "sns.heatmap(mean_yes_courier)"
   ]
  },
  {
   "cell_type": "raw",
   "metadata": {},
   "source": [
    "В утренние (7-10) и вечерние (19-22) часы люди отменяют заказы с назначенным курьером гораздо раньше, при этом в ночные часы они готовы ждать курьера дольше.\n",
    "При этом, в то же время они готовы ждать назначения курьера дольше обычного."
   ]
  },
  {
   "cell_type": "markdown",
   "metadata": {},
   "source": [
    "**5.** Постройте график распределения фейлов по часам - наблюдается ли тендеция, что в какие то часы доля той или иной категории аномально высока?"
   ]
  },
  {
   "cell_type": "code",
   "execution_count": 50,
   "metadata": {},
   "outputs": [],
   "source": [
    "count_no_courier = df_orders.query('is_courier_assigned_key == \"0\" and cancellations_time_in_seconds == \"NaN\"')\\\n",
    "    .groupby('hour', as_index=False)\\\n",
    "    .agg({'order_status_key': 'count'})\\\n",
    "    .rename(columns={\"order_status_key\": \"no_courier\"})"
   ]
  },
  {
   "cell_type": "code",
   "execution_count": 51,
   "metadata": {},
   "outputs": [],
   "source": [
    "count_yes_courier = df_orders.query('is_courier_assigned_key == \"1\" and cancellations_time_in_seconds == \"NaN\"')\\\n",
    "    .groupby('hour', as_index=False)\\\n",
    "    .agg({'order_status_key': 'count'})\\\n",
    "    .rename(columns={\"order_status_key\": \"yes_courier\"})"
   ]
  },
  {
   "cell_type": "code",
   "execution_count": 52,
   "metadata": {},
   "outputs": [],
   "source": [
    "count_fail = count_no_courier.merge(count_yes_courier, how='left', on='hour')\n",
    "count_fail = count_fail.set_index('hour')"
   ]
  },
  {
   "cell_type": "code",
   "execution_count": 53,
   "metadata": {
    "scrolled": false
   },
   "outputs": [
    {
     "data": {
      "text/plain": [
       "<matplotlib.axes._subplots.AxesSubplot at 0x7f4cbed800b8>"
      ]
     },
     "execution_count": 53,
     "metadata": {},
     "output_type": "execute_result"
    },
    {
     "data": {
      "image/png": "[encoded data removed]",
      "text/plain": [
       "<Figure size 1440x576 with 1 Axes>"
      ]
     },
     "metadata": {
      "needs_background": "light"
     },
     "output_type": "display_data"
    }
   ],
   "source": [
    "plt.figure(figsize=(20, 8))\n",
    "sns.lineplot(data=count_fail)"
   ]
  },
  {
   "cell_type": "raw",
   "metadata": {},
   "source": [
    "Глядя на данный график можно сказать, что аномальное количество фейлов происходит в ночное время и в  8 утра.\n",
    "Однако, давайте посмотрим на этот график, наложив на него количество заказов по часам:"
   ]
  },
  {
   "cell_type": "code",
   "execution_count": 54,
   "metadata": {},
   "outputs": [],
   "source": [
    "order_count = df_orders.groupby('hour', as_index=False)\\\n",
    "    .agg({'order_gk': 'count'})\\\n",
    "    .rename(columns={\"order_gk\": \"count_orders\"})"
   ]
  },
  {
   "cell_type": "code",
   "execution_count": 55,
   "metadata": {},
   "outputs": [],
   "source": [
    "df = count_fail.merge(order_count, how='left', on='hour')\n",
    "df = df.set_index('hour')"
   ]
  },
  {
   "cell_type": "code",
   "execution_count": 56,
   "metadata": {},
   "outputs": [
    {
     "data": {
      "text/plain": [
       "<matplotlib.axes._subplots.AxesSubplot at 0x7f4cbed5f208>"
      ]
     },
     "execution_count": 56,
     "metadata": {},
     "output_type": "execute_result"
    },
    {
     "data": {
      "image/png": "[encoded data removed]",
      "text/plain": [
       "<Figure size 1440x576 with 1 Axes>"
      ]
     },
     "metadata": {
      "needs_background": "light"
     },
     "output_type": "display_data"
    }
   ],
   "source": [
    "plt.figure(figsize=(20, 8))\n",
    "sns.lineplot(data=df)"
   ]
  },
  {
   "cell_type": "raw",
   "metadata": {},
   "source": [
    "На данном графике наблюдается корреляция фейлов системы с общим количеством отмененных заказов. Вычислим долю фейлов от общего числа заказов и посмотрим на описательную статистику:"
   ]
  },
  {
   "cell_type": "code",
   "execution_count": 57,
   "metadata": {},
   "outputs": [],
   "source": [
    "df1 = df.no_courier/df.count_orders*100"
   ]
  },
  {
   "cell_type": "code",
   "execution_count": 58,
   "metadata": {},
   "outputs": [
    {
     "data": {
      "text/plain": [
       "count    24.000000\n",
       "mean     30.294910\n",
       "std       7.681266\n",
       "min      13.989637\n",
       "25%      26.427215\n",
       "50%      28.356760\n",
       "75%      35.272235\n",
       "max      43.859649\n",
       "dtype: float64"
      ]
     },
     "execution_count": 58,
     "metadata": {},
     "output_type": "execute_result"
    }
   ],
   "source": [
    "df1.describe()"
   ]
  },
  {
   "cell_type": "code",
   "execution_count": 59,
   "metadata": {},
   "outputs": [
    {
     "data": {
      "text/plain": [
       "<matplotlib.axes._subplots.AxesSubplot at 0x7f4cbec44320>"
      ]
     },
     "execution_count": 59,
     "metadata": {},
     "output_type": "execute_result"
    },
    {
     "data": {
      "image/png": "[encoded data removed]",
      "text/plain": [
       "<Figure size 432x288 with 1 Axes>"
      ]
     },
     "metadata": {
      "needs_background": "light"
     },
     "output_type": "display_data"
    }
   ],
   "source": [
    "df1.hist()"
   ]
  },
  {
   "cell_type": "raw",
   "metadata": {},
   "source": [
    "Нормальное распределение (насколько это возможно при 24 наблюдениях) наталкивает на мысль, что все эти отмены не случайны."
   ]
  },
  {
   "cell_type": "raw",
   "metadata": {},
   "source": [
    "Гипотеза \n",
    "\n",
    "Не баг, а фича. Возможно, в системе нет ошибки с автоматической отменой заказов. Необходимо уточнить возможность наличия \"защиты от перегрузки\".\n",
    "\n",
    "При определенном количестве отмененных заказов (или общего числа заказов, или еще какая-то метрика) система автоматом отменяет заказы, чтобы не перегружаться."
   ]
  },
  {
   "cell_type": "markdown",
   "metadata": {},
   "source": [
    "# Выводы:"
   ]
  },
  {
   "cell_type": "markdown",
   "metadata": {},
   "source": [
    "В ходе работы с данными были выдвинуты следующие гипотезы:"
   ]
  },
  {
   "cell_type": "raw",
   "metadata": {},
   "source": [
    "1.Отказы по статусу 9 (от системы) без времени до отказа. Т.е. либо какой-то сбой и время не пишется, либо этот отказ происходит до момента старта отсчета времени вообще. Соответственно, нужно проверить, точно ли все ок с статусом 9 в рамках технической реализации со стороны системы матчинга."
   ]
  },
  {
   "cell_type": "raw",
   "metadata": {},
   "source": [
    "2.Заказы отменяются пользователями, поскольку время ожидания доставки заказа очень велико.\n",
    "\n",
    "Разобьем проблему на две составляющие: \"Почему так может происходить\" и \"как этого избежать в дальнейшем\"?\n",
    "\n",
    "Почему так может происходить:\n",
    "\n",
    "1.Курьер задержался на доставке. Проверить геоданные курьеров (допустим, такие есть), провести разъяснительные работы.\n",
    "\n",
    "2.Курьер назначен из другого района. Проверить геоданные курьеров, оптимизировать распределение курьеров.\n",
    "\n",
    "3.Задержка с выдачей заказа в пункте выдачи. Посмотреть данные по принятию заказа в работу, готовности заказа, времени выдачи заказа.\n",
    "\n",
    "\n",
    "Как этого избежать в дальнейшем:\n",
    "\n",
    "\n",
    "1.Устранить, при наличии, причины из предыдущего пункта.\n",
    "\n",
    "2.Определить время доставки заказа (допустим, 30 минут)\n",
    "\n",
    "3.При превышении этого времени посылать алерт ответственному лицу.\n",
    "\n",
    "4.Мотивировать клиента не отменять заказ (промокод на следующий, доставка за наш счет, заказ за наш счет)"
   ]
  },
  {
   "cell_type": "raw",
   "metadata": {},
   "source": [
    "3.Клиент отменяет заказ если видит, что на его заказ не назначен курьер.\n",
    "\n",
    "Почему так может происходить:\n",
    "\n",
    "1.Нет свободных курьеров поблизости\n",
    "2.Вознаграждение курьера слишком мало\n",
    "\n",
    "Как этого избежать в дальнейшем:\n",
    "\n",
    "1.Продумать как мотивировать курьеров перемещаться в области с повышенным спросом (яндек такси для таксистов)\n",
    "2.Продумать прогресивную шкалу поощрения курьеров, при наличии пересмотреть."
   ]
  },
  {
   "cell_type": "raw",
   "metadata": {},
   "source": [
    "4. Возможно, есть часть курьеров, которые получают заказ напрямую, минуя офферы. Если это так, то необходимо добавить отображение данных о таких курьерах в таблице."
   ]
  },
  {
   "cell_type": "raw",
   "metadata": {},
   "source": [
    "5. Сбой в работе системы. Заказу присваивается статус is_courier_assigned_key == 1, система считает что заказ ужке взят и не предлагает офферы курьерам. Соответственно, заказ не доставляется. \n",
    "Необходимо проверить данный факт, обратившись к ответственному за данный процесс лицу."
   ]
  },
  {
   "cell_type": "raw",
   "metadata": {},
   "source": [
    "6. Сбой в работе системы. Не на все заказы система предлагает офферы курьерам. Необходимо проверить данный факт, обратившись к ответственному за данный процесс лицу."
   ]
  },
  {
   "cell_type": "raw",
   "metadata": {},
   "source": [
    "7. Система отменяет заказ и не предлагает офферы курьерам по каки-либо причнам еще до этапа доставки.\n",
    "Например: товара может не быть в наличии, товар есть в наличии, но он бракован, товар в наличии, но зарезервирован итд.\n",
    "\n",
    "В таком случае доля назначенных курьеров в 0,09% является погрешностью, ошибкой в работе системы."
   ]
  },
  {
   "cell_type": "raw",
   "metadata": {},
   "source": [
    "8. В утренние (7-10) и вечерние (19-22) часы люди отменяют заказы с назначенным курьером гораздо раньше, при этом в ночные часы они готовы ждать курьера дольше.\n",
    "При этом, в то же время они готовы ждать назначения курьера дольше обычного."
   ]
  },
  {
   "cell_type": "raw",
   "metadata": {},
   "source": [
    "9. Не баг, а фича. Возможно, в системе нет ошибки с автоматической отменой заказов. Необходимо уточнить возможность наличия \"защиты от перегрузки\".\n",
    "\n",
    "При определенном количестве отмененных заказов (или общего числа заказов, или еще какая-то метрика) система автоматом отменяет заказы, чтобы не перегружаться."
   ]
  },
  {
   "cell_type": "markdown",
   "metadata": {},
   "source": [
    "### Рекомендации по полученным выводам:"
   ]
  },
  {
   "cell_type": "markdown",
   "metadata": {},
   "source": [
    "##### В первую очередь предлагаю проверить возможное наличие технических проблем."
   ]
  },
  {
   "cell_type": "raw",
   "metadata": {},
   "source": [
    "Отказы по статусу 9 (от системы)\n",
    "\n",
    "Узнать, присутствует ли в системе \"защита от перегрузки\" (Гип.9)\n",
    "\n",
    "Либо идет автоматическая отмена по какой-либо другой причине (Гип.7) \n",
    "\n",
    "Если предыдущие пункты не подтверждаются, необходимо проверить нормальность работы системы (Гип.1)"
   ]
  },
  {
   "cell_type": "raw",
   "metadata": {},
   "source": [
    "Нет оффера\n",
    "\n",
    "Не на все заказы система предлагает офферы курьерам(Гип.6). Необходимо проверить данный факт, обратившись к ответственному за данный процесс лицу."
   ]
  },
  {
   "cell_type": "raw",
   "metadata": {},
   "source": [
    "Назначен курьер, при отсутствии оффера.\n",
    "\n",
    "Проверить возможность получения заказа курьером, минуя оффер(Гип.4)\n",
    "\n",
    "При отсутствии таковой, проверить нормальную работоспособность системы (Гип.5)"
   ]
  },
  {
   "cell_type": "markdown",
   "metadata": {},
   "source": [
    "##### После взглянуть  на рекомендации по улучшению производственного процесса:"
   ]
  },
  {
   "cell_type": "raw",
   "metadata": {},
   "source": [
    "Заказы отменяются пользователями, поскольку время ожидания доставки заказа очень велико.(Гип.2)"
   ]
  },
  {
   "cell_type": "raw",
   "metadata": {},
   "source": [
    "Клиент отменяет заказ если видит, что на его заказ не назначен курьер.(Гип3.)"
   ]
  },
  {
   "cell_type": "raw",
   "metadata": {},
   "source": [
    "Оптимизировать работу под внутрисуточную сезонность клиента.(Гип.8)"
   ]
  }
 ],
 "metadata": {
  "hide_input": false,
  "kernelspec": {
   "display_name": "Python 3",
   "language": "python",
   "name": "python3"
  },
  "language_info": {
   "codemirror_mode": {
    "name": "ipython",
    "version": 3
   },
   "file_extension": ".py",
   "mimetype": "text/x-python",
   "name": "python",
   "nbconvert_exporter": "python",
   "pygments_lexer": "ipython3",
   "version": "3.7.3"
  },
  "toc": {
   "base_numbering": 1,
   "nav_menu": {},
   "number_sections": true,
   "sideBar": true,
   "skip_h1_title": false,
   "title_cell": "Table of Contents",
   "title_sidebar": "Contents",
   "toc_cell": false,
   "toc_position": {},
   "toc_section_display": true,
   "toc_window_display": true
  },
  "varInspector": {
   "cols": {
    "lenName": 16,
    "lenType": 16,
    "lenVar": 40
   },
   "kernels_config": {
    "python": {
     "delete_cmd_postfix": "",
     "delete_cmd_prefix": "del ",
     "library": "var_list.py",
     "varRefreshCmd": "print(var_dic_list())"
    },
    "r": {
     "delete_cmd_postfix": ") ",
     "delete_cmd_prefix": "rm(",
     "library": "var_list.r",
     "varRefreshCmd": "cat(var_dic_list()) "
    }
   },
   "types_to_exclude": [
    "module",
    "function",
    "builtin_function_or_method",
    "instance",
    "_Feature"
   ],
   "window_display": false
  }
 },
 "nbformat": 4,
 "nbformat_minor": 2
}
